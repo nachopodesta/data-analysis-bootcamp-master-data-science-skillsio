{
 "cells": [
  {
   "cell_type": "markdown",
   "id": "c908917c-b303-4475-a60b-e4afb8e63572",
   "metadata": {},
   "source": [
    "# Data Analysis Bootcamp Master Data Science Skills"
   ]
  },
  {
   "cell_type": "markdown",
   "id": "d8478396-567b-4146-9ee8-5c2526b14f51",
   "metadata": {},
   "source": [
    "## 2. Basic "
   ]
  },
  {
   "cell_type": "code",
   "execution_count": 2,
   "id": "cc1d5cf8-967d-49b0-b77c-3ca07d7d3a11",
   "metadata": {},
   "outputs": [],
   "source": [
    "import numpy as np"
   ]
  },
  {
   "cell_type": "code",
   "execution_count": 3,
   "id": "29ca9364-391f-4802-96dc-c584aa1401d4",
   "metadata": {},
   "outputs": [
    {
     "name": "stdout",
     "output_type": "stream",
     "text": [
      "[4 5 6]\n"
     ]
    }
   ],
   "source": [
    "arr1 = np.array([4,5,6])\n",
    "print(arr1)"
   ]
  },
  {
   "cell_type": "code",
   "execution_count": 4,
   "id": "d533a752-a1cd-4c40-871a-71077a7198d4",
   "metadata": {},
   "outputs": [
    {
     "name": "stdout",
     "output_type": "stream",
     "text": [
      "<class 'numpy.ndarray'>\n"
     ]
    }
   ],
   "source": [
    "print(type(arr1))"
   ]
  },
  {
   "cell_type": "code",
   "execution_count": 5,
   "id": "ed5e18dd-c979-4687-9d79-45d3bcb912f2",
   "metadata": {},
   "outputs": [
    {
     "name": "stdout",
     "output_type": "stream",
     "text": [
      "(3,)\n"
     ]
    }
   ],
   "source": [
    "print(arr1.shape)"
   ]
  },
  {
   "cell_type": "code",
   "execution_count": 6,
   "id": "f16b9aa6-fced-40c9-b699-d592247380fc",
   "metadata": {},
   "outputs": [
    {
     "name": "stdout",
     "output_type": "stream",
     "text": [
      "6\n"
     ]
    }
   ],
   "source": [
    "print(arr1[2])"
   ]
  },
  {
   "cell_type": "code",
   "execution_count": 7,
   "id": "1730b66a-41f1-40b4-9766-e99cf532de0d",
   "metadata": {},
   "outputs": [
    {
     "data": {
      "text/plain": [
       "array([9, 5, 6])"
      ]
     },
     "execution_count": 7,
     "metadata": {},
     "output_type": "execute_result"
    }
   ],
   "source": [
    "arr1[0] = 9\n",
    "arr1"
   ]
  },
  {
   "cell_type": "code",
   "execution_count": 8,
   "id": "4f172fd7-66c0-4d00-b5b6-d8533c5d79e5",
   "metadata": {},
   "outputs": [
    {
     "data": {
      "text/plain": [
       "array([[4, 5, 6],\n",
       "       [1, 2, 3]])"
      ]
     },
     "execution_count": 8,
     "metadata": {},
     "output_type": "execute_result"
    }
   ],
   "source": [
    "arr2 = np.array([[4,5,6],[1,2,3]])\n",
    "arr2"
   ]
  },
  {
   "cell_type": "code",
   "execution_count": 9,
   "id": "76ead6b2-102c-4d6c-9c36-968fdcf78f1e",
   "metadata": {},
   "outputs": [
    {
     "data": {
      "text/plain": [
       "(2, 3)"
      ]
     },
     "execution_count": 9,
     "metadata": {},
     "output_type": "execute_result"
    }
   ],
   "source": [
    "arr2.shape"
   ]
  },
  {
   "cell_type": "code",
   "execution_count": 10,
   "id": "61925c98-60f7-47ed-bdd4-76939fc3fa41",
   "metadata": {},
   "outputs": [
    {
     "data": {
      "text/plain": [
       "3"
      ]
     },
     "execution_count": 10,
     "metadata": {},
     "output_type": "execute_result"
    }
   ],
   "source": [
    "arr2[1,2]"
   ]
  },
  {
   "cell_type": "code",
   "execution_count": 11,
   "id": "f0d1642c-5464-4ec2-b76f-8d673376866b",
   "metadata": {},
   "outputs": [
    {
     "data": {
      "text/plain": [
       "3"
      ]
     },
     "execution_count": 11,
     "metadata": {},
     "output_type": "execute_result"
    }
   ],
   "source": [
    "arr2[1][2]"
   ]
  },
  {
   "cell_type": "code",
   "execution_count": 12,
   "id": "7b73361a-cbfe-44ca-adc9-3e1e54d97d74",
   "metadata": {},
   "outputs": [
    {
     "data": {
      "text/plain": [
       "array(['France', 'Vietnam', 'Taiwan', 'Australia', 'Mexico'], dtype='<U9')"
      ]
     },
     "execution_count": 12,
     "metadata": {},
     "output_type": "execute_result"
    }
   ],
   "source": [
    "arrC = np.array(['France', 'Vietnam', 'Taiwan', 'Australia', 'Mexico'])\n",
    "arrC"
   ]
  },
  {
   "cell_type": "code",
   "execution_count": 13,
   "id": "ac3a2987-c9fb-42f6-a80d-d74517cf2064",
   "metadata": {},
   "outputs": [
    {
     "data": {
      "text/plain": [
       "array([ 0,  3,  6,  9, 12, 15, 18, 21, 24, 27])"
      ]
     },
     "execution_count": 13,
     "metadata": {},
     "output_type": "execute_result"
    }
   ],
   "source": [
    "arrM = np.arange(0,30,3)\n",
    "arrM"
   ]
  },
  {
   "cell_type": "code",
   "execution_count": 14,
   "id": "f43ea1ea-811a-46d6-9046-8416b272bb33",
   "metadata": {},
   "outputs": [
    {
     "data": {
      "text/plain": [
       "array([ 0.        ,  0.51724138,  1.03448276,  1.55172414,  2.06896552,\n",
       "        2.5862069 ,  3.10344828,  3.62068966,  4.13793103,  4.65517241,\n",
       "        5.17241379,  5.68965517,  6.20689655,  6.72413793,  7.24137931,\n",
       "        7.75862069,  8.27586207,  8.79310345,  9.31034483,  9.82758621,\n",
       "       10.34482759, 10.86206897, 11.37931034, 11.89655172, 12.4137931 ,\n",
       "       12.93103448, 13.44827586, 13.96551724, 14.48275862, 15.        ])"
      ]
     },
     "execution_count": 14,
     "metadata": {},
     "output_type": "execute_result"
    }
   ],
   "source": [
    "arrL = np.linspace(0, 15, 30)\n",
    "arrL"
   ]
  },
  {
   "cell_type": "code",
   "execution_count": 15,
   "id": "8bf56155-4686-4faa-a4c1-5fc4a239a0aa",
   "metadata": {},
   "outputs": [
    {
     "data": {
      "text/plain": [
       "array([0.92089263, 0.53358953, 0.31737842, 0.04298804, 0.29432737,\n",
       "       0.79552748, 0.83329225, 0.04063163])"
      ]
     },
     "execution_count": 15,
     "metadata": {},
     "output_type": "execute_result"
    }
   ],
   "source": [
    "arr = np.random.rand(8)\n",
    "arr"
   ]
  },
  {
   "cell_type": "code",
   "execution_count": 16,
   "id": "63abb995-49e5-4b47-b9f5-4c720e8300db",
   "metadata": {},
   "outputs": [
    {
     "name": "stdout",
     "output_type": "stream",
     "text": [
      "[0. 0. 0. 0. 0. 0. 0. 0.]\n",
      "\n",
      "\n",
      "[[0. 0. 0. 0.]\n",
      " [0. 0. 0. 0.]\n",
      " [0. 0. 0. 0.]]\n"
     ]
    }
   ],
   "source": [
    "print(np.zeros(8))\n",
    "print('\\n')\n",
    "print(np.zeros((3,4)))"
   ]
  },
  {
   "cell_type": "code",
   "execution_count": 17,
   "id": "110a9585-801f-44d9-9b35-3df2fab56a1c",
   "metadata": {},
   "outputs": [
    {
     "name": "stdout",
     "output_type": "stream",
     "text": [
      "[[[1. 1. 1. 1.]\n",
      "  [1. 1. 1. 1.]]\n",
      "\n",
      " [[1. 1. 1. 1.]\n",
      "  [1. 1. 1. 1.]]\n",
      "\n",
      " [[1. 1. 1. 1.]\n",
      "  [1. 1. 1. 1.]]\n",
      "\n",
      " [[1. 1. 1. 1.]\n",
      "  [1. 1. 1. 1.]]]\n"
     ]
    }
   ],
   "source": [
    "print(np.ones((4,2,4)))"
   ]
  },
  {
   "cell_type": "code",
   "execution_count": 18,
   "id": "fff26cc7-c11d-40f7-983e-a231e382eff1",
   "metadata": {},
   "outputs": [
    {
     "name": "stdout",
     "output_type": "stream",
     "text": [
      "[0 0 0 0 1 1 1 1 2 2 2 2]\n"
     ]
    }
   ],
   "source": [
    "arr = [0, 1, 2]\n",
    "print(np.repeat(arr, 4))"
   ]
  },
  {
   "cell_type": "code",
   "execution_count": 19,
   "id": "1dbb2378-4897-4527-81ca-e367bebb61a6",
   "metadata": {},
   "outputs": [
    {
     "name": "stdout",
     "output_type": "stream",
     "text": [
      "['China' 'China' 'China' 'China' '1' '1' '1' '1' '2' '2' '2' '2']\n"
     ]
    }
   ],
   "source": [
    "arr = ['China', 1, 2]\n",
    "print(np.repeat(arr, 4))"
   ]
  },
  {
   "cell_type": "markdown",
   "id": "3a743bb2-71c4-4f0f-acfb-8c11ddf4da3c",
   "metadata": {},
   "source": [
    "## 3. More Basic Data Analysis Commands"
   ]
  },
  {
   "cell_type": "code",
   "execution_count": 20,
   "id": "543e8034-ba87-4ab0-94fc-219db7f9de4f",
   "metadata": {},
   "outputs": [
    {
     "data": {
      "text/plain": [
       "array([[0.88491451, 0.80197351, 0.19568196, 0.30932106, 0.45853813,\n",
       "        0.6421513 ],\n",
       "       [0.48790374, 0.95634473, 0.64920619, 0.27551785, 0.60316352,\n",
       "        0.08203664],\n",
       "       [0.80820198, 0.29947693, 0.49420895, 0.57740337, 0.78734481,\n",
       "        0.80135575],\n",
       "       [0.2258658 , 0.47869676, 0.386026  , 0.25962166, 0.25491067,\n",
       "        0.91180527],\n",
       "       [0.72367076, 0.3721244 , 0.14815991, 0.58306742, 0.89366677,\n",
       "        0.60013853],\n",
       "       [0.72401228, 0.91561572, 0.29064189, 0.39642856, 0.66189356,\n",
       "        0.40172214]])"
      ]
     },
     "execution_count": 20,
     "metadata": {},
     "output_type": "execute_result"
    }
   ],
   "source": [
    "arr = np.random.rand(6,6)\n",
    "arr"
   ]
  },
  {
   "cell_type": "code",
   "execution_count": 21,
   "id": "b2ba2cc6-2232-4e6e-9bdb-b2dbf0e5a2c3",
   "metadata": {},
   "outputs": [
    {
     "data": {
      "text/plain": [
       "array([0.88491451, 0.95634473, 0.49420895, 0.25962166, 0.89366677,\n",
       "       0.40172214])"
      ]
     },
     "execution_count": 21,
     "metadata": {},
     "output_type": "execute_result"
    }
   ],
   "source": [
    "np.diag(arr)"
   ]
  },
  {
   "cell_type": "code",
   "execution_count": 22,
   "id": "af853809-dfbc-4487-9308-628ee56b1356",
   "metadata": {},
   "outputs": [
    {
     "data": {
      "text/plain": [
       "2"
      ]
     },
     "execution_count": 22,
     "metadata": {},
     "output_type": "execute_result"
    }
   ],
   "source": [
    "arr.ndim"
   ]
  },
  {
   "cell_type": "code",
   "execution_count": 24,
   "id": "202f5fe7-9ac3-4dc4-9045-32bb390ea83e",
   "metadata": {},
   "outputs": [
    {
     "data": {
      "text/plain": [
       "36"
      ]
     },
     "execution_count": 24,
     "metadata": {},
     "output_type": "execute_result"
    }
   ],
   "source": [
    "arr.size"
   ]
  },
  {
   "cell_type": "code",
   "execution_count": 25,
   "id": "b972b7a6-d1f1-42a8-a267-b923f4c56caf",
   "metadata": {},
   "outputs": [
    {
     "data": {
      "text/plain": [
       "(6, 6)"
      ]
     },
     "execution_count": 25,
     "metadata": {},
     "output_type": "execute_result"
    }
   ],
   "source": [
    "arr.shape"
   ]
  },
  {
   "cell_type": "code",
   "execution_count": 45,
   "id": "9f6d0993-4fa6-489e-90ca-62334cb504ef",
   "metadata": {},
   "outputs": [
    {
     "data": {
      "text/plain": [
       "array([-4, -2])"
      ]
     },
     "execution_count": 45,
     "metadata": {},
     "output_type": "execute_result"
    }
   ],
   "source": [
    "np.random.randint(-5, 5, 2)"
   ]
  },
  {
   "cell_type": "code",
   "execution_count": 46,
   "id": "8f21fb9f-e4c8-460e-a73b-863649ea3fd8",
   "metadata": {},
   "outputs": [
    {
     "data": {
      "text/plain": [
       "array([-5, 29,  1,  6, 24, 26, -6])"
      ]
     },
     "execution_count": 46,
     "metadata": {},
     "output_type": "execute_result"
    }
   ],
   "source": [
    "np.random.randint(-6, 30, 7) "
   ]
  },
  {
   "cell_type": "code",
   "execution_count": 47,
   "id": "981b3455-325c-47db-bd87-241776ba9e18",
   "metadata": {},
   "outputs": [
    {
     "data": {
      "text/plain": [
       "array([[2.42277727, 2.22993738, 1.21614006, 1.36249975, 1.58175997,\n",
       "        1.90056516],\n",
       "       [1.62889804, 2.60216744, 1.91402085, 1.31721262, 1.82789223,\n",
       "        1.08549558],\n",
       "       [2.24386984, 1.34915292, 1.63920103, 1.78140677, 2.19755376,\n",
       "        2.22856024],\n",
       "       [1.25340745, 1.61396964, 1.47112293, 1.2964395 , 1.29034635,\n",
       "        2.48881147],\n",
       "       [2.0619884 , 1.45081346, 1.15969833, 1.79152537, 2.4440751 ,\n",
       "        1.82237124],\n",
       "       [2.06269272, 2.49831304, 1.3372856 , 1.48650624, 1.93845946,\n",
       "        1.49439604]])"
      ]
     },
     "execution_count": 47,
     "metadata": {},
     "output_type": "execute_result"
    }
   ],
   "source": [
    "np.exp(arr)"
   ]
  },
  {
   "cell_type": "code",
   "execution_count": 48,
   "id": "ed0e04fb-b88a-4dbf-b51f-476e0a0dd28e",
   "metadata": {},
   "outputs": [
    {
     "data": {
      "text/plain": [
       "array([[-0.12226423, -0.22067971, -1.63126459, -1.1733755 , -0.77971182,\n",
       "        -0.44293134],\n",
       "       [-0.71763715, -0.04463684, -0.43200491, -1.28910285, -0.50556695,\n",
       "        -2.5005893 ],\n",
       "       [-0.21294327, -1.2057179 , -0.70479688, -0.54921417, -0.23908899,\n",
       "        -0.2214503 ],\n",
       "       [-1.48781424, -0.73668795, -0.95185054, -1.34852985, -1.36684211,\n",
       "        -0.09232883],\n",
       "       [-0.32341874, -0.98852706, -1.9094631 , -0.53945246, -0.11242231,\n",
       "        -0.51059476],\n",
       "       [-0.32294693, -0.08815852, -1.23566339, -0.92525942, -0.41265051,\n",
       "        -0.91199463]])"
      ]
     },
     "execution_count": 48,
     "metadata": {},
     "output_type": "execute_result"
    }
   ],
   "source": [
    "np.log(arr)"
   ]
  },
  {
   "cell_type": "code",
   "execution_count": 49,
   "id": "232685bc-951f-426c-baf0-19045e13d7cc",
   "metadata": {},
   "outputs": [
    {
     "data": {
      "text/plain": [
       "array([[-0.17639   , -0.31837352, -2.35341733, -1.69282302, -1.12488637,\n",
       "        -0.63901485],\n",
       "       [-1.03533156, -0.06439734, -0.62325135, -1.85978228, -0.72937893,\n",
       "        -3.60758779],\n",
       "       [-0.3072122 , -1.73948323, -1.01680696, -0.79234856, -0.3449325 ,\n",
       "        -0.31948525],\n",
       "       [-2.14646223, -1.06281605, -1.37323006, -1.94551732, -1.97193634,\n",
       "        -0.13320234],\n",
       "       [-0.46659461, -1.42614309, -2.75477294, -0.77826539, -0.16219111,\n",
       "        -0.73663253],\n",
       "       [-0.46591393, -0.12718586, -1.78268544, -1.33486718, -0.59532885,\n",
       "        -1.31573013]])"
      ]
     },
     "execution_count": 49,
     "metadata": {},
     "output_type": "execute_result"
    }
   ],
   "source": [
    "np.log2(arr)"
   ]
  },
  {
   "cell_type": "code",
   "execution_count": 50,
   "id": "6fe917a4-8ad0-4b40-8598-465dc011a55b",
   "metadata": {},
   "outputs": [
    {
     "data": {
      "text/plain": [
       "array([[-0.05309868, -0.09583998, -0.70844921, -0.50959051, -0.33862454,\n",
       "        -0.19236264],\n",
       "       [-0.31166586, -0.01938553, -0.18761735, -0.55985025, -0.21956494,\n",
       "        -1.08599214],\n",
       "       [-0.09248009, -0.52363663, -0.30608939, -0.23852068, -0.10383503,\n",
       "        -0.09617464],\n",
       "       [-0.64614952, -0.31993951, -0.41338344, -0.58565907, -0.59361199,\n",
       "        -0.0400979 ],\n",
       "       [-0.14045897, -0.42931185, -0.82926929, -0.23428123, -0.04882439,\n",
       "        -0.22174849],\n",
       "       [-0.14025407, -0.03828676, -0.53664179, -0.40183506, -0.17921184,\n",
       "        -0.39607424]])"
      ]
     },
     "execution_count": 50,
     "metadata": {},
     "output_type": "execute_result"
    }
   ],
   "source": [
    "np.log10(arr)"
   ]
  },
  {
   "cell_type": "code",
   "execution_count": 51,
   "id": "19b7cbe0-a82e-47a2-896d-01f97494293c",
   "metadata": {},
   "outputs": [
    {
     "data": {
      "text/plain": [
       "array([[1.22184248, 1.03371257, 0.19821847, 0.31957907, 0.49362938,\n",
       "        0.74789305],\n",
       "       [0.53069849, 1.41730239, 0.75895259, 0.28270778, 0.68879108,\n",
       "        0.08222117],\n",
       "       [1.04668022, 0.30876322, 0.53880675, 0.65146353, 1.0039009 ,\n",
       "        1.03243551],\n",
       "       [0.22978671, 0.5189555 , 0.406417  , 0.26561647, 0.26057937,\n",
       "        1.29117308],\n",
       "       [0.88358339, 0.39030918, 0.14925362, 0.65956139, 1.24389738,\n",
       "        0.6843402 ],\n",
       "       [0.88419172, 1.30138633, 0.29911197, 0.4185897 , 0.77914351,\n",
       "        0.42482468]])"
      ]
     },
     "execution_count": 51,
     "metadata": {},
     "output_type": "execute_result"
    }
   ],
   "source": [
    "np.tan(arr)"
   ]
  },
  {
   "cell_type": "code",
   "execution_count": 54,
   "id": "5c2a4298-202c-42dc-8817-258736522cad",
   "metadata": {},
   "outputs": [
    {
     "data": {
      "text/plain": [
       "array([3.85456908, 3.82423205, 2.1639249 , 2.40135994, 3.65951747,\n",
       "       3.43920963])"
      ]
     },
     "execution_count": 54,
     "metadata": {},
     "output_type": "execute_result"
    }
   ],
   "source": [
    "np.sum(arr, axis=0)"
   ]
  },
  {
   "cell_type": "code",
   "execution_count": 55,
   "id": "08ee12c6-b59f-470d-a327-efc4668fe843",
   "metadata": {},
   "outputs": [
    {
     "data": {
      "text/plain": [
       "0.9563447296724721"
      ]
     },
     "execution_count": 55,
     "metadata": {},
     "output_type": "execute_result"
    }
   ],
   "source": [
    "np.max(arr)"
   ]
  },
  {
   "cell_type": "code",
   "execution_count": 56,
   "id": "934935e6-ad57-49e6-bf68-17e8e636cf0f",
   "metadata": {},
   "outputs": [
    {
     "data": {
      "text/plain": [
       "0.08203663995238963"
      ]
     },
     "execution_count": 56,
     "metadata": {},
     "output_type": "execute_result"
    }
   ],
   "source": [
    "np.min(arr)"
   ]
  },
  {
   "cell_type": "code",
   "execution_count": 59,
   "id": "6460129f-9f31-4c96-b7d8-3917ec10115e",
   "metadata": {},
   "outputs": [
    {
     "data": {
      "text/plain": [
       "array([0.19568196, 0.08203664, 0.29947693, 0.2258658 , 0.14815991,\n",
       "       0.29064189])"
      ]
     },
     "execution_count": 59,
     "metadata": {},
     "output_type": "execute_result"
    }
   ],
   "source": [
    "np.min(arr, axis=1)"
   ]
  },
  {
   "cell_type": "code",
   "execution_count": 58,
   "id": "403664c7-3caa-418e-85b6-69385c17541c",
   "metadata": {},
   "outputs": [
    {
     "data": {
      "text/plain": [
       "array([[0.88491451, 0.80197351, 0.19568196, 0.30932106, 0.45853813,\n",
       "        0.6421513 ],\n",
       "       [0.48790374, 0.95634473, 0.64920619, 0.27551785, 0.60316352,\n",
       "        0.08203664],\n",
       "       [0.80820198, 0.29947693, 0.49420895, 0.57740337, 0.78734481,\n",
       "        0.80135575],\n",
       "       [0.2258658 , 0.47869676, 0.386026  , 0.25962166, 0.25491067,\n",
       "        0.91180527],\n",
       "       [0.72367076, 0.3721244 , 0.14815991, 0.58306742, 0.89366677,\n",
       "        0.60013853],\n",
       "       [0.72401228, 0.91561572, 0.29064189, 0.39642856, 0.66189356,\n",
       "        0.40172214]])"
      ]
     },
     "execution_count": 58,
     "metadata": {},
     "output_type": "execute_result"
    }
   ],
   "source": [
    "arr"
   ]
  },
  {
   "cell_type": "code",
   "execution_count": 60,
   "id": "b5b12d95-d0d0-42f5-9914-c72be84ade3e",
   "metadata": {},
   "outputs": [
    {
     "data": {
      "text/plain": [
       "0.5373003627730389"
      ]
     },
     "execution_count": 60,
     "metadata": {},
     "output_type": "execute_result"
    }
   ],
   "source": [
    "np.mean(arr)"
   ]
  },
  {
   "cell_type": "code",
   "execution_count": 61,
   "id": "3b7f892e-4793-4dac-a38f-ed45b99f33d2",
   "metadata": {},
   "outputs": [
    {
     "data": {
      "text/plain": [
       "array([0.64242818, 0.63737201, 0.36065415, 0.40022666, 0.60991958,\n",
       "       0.5732016 ])"
      ]
     },
     "execution_count": 61,
     "metadata": {},
     "output_type": "execute_result"
    }
   ],
   "source": [
    "np.mean(arr, axis=0)"
   ]
  },
  {
   "cell_type": "code",
   "execution_count": 62,
   "id": "84096e18-4a57-4e3c-86c1-97506ce06c92",
   "metadata": {},
   "outputs": [
    {
     "data": {
      "text/plain": [
       "0.24566189523231005"
      ]
     },
     "execution_count": 62,
     "metadata": {},
     "output_type": "execute_result"
    }
   ],
   "source": [
    "np.std(arr)"
   ]
  },
  {
   "cell_type": "code",
   "execution_count": 63,
   "id": "b945a70e-a40d-4d50-a925-9839f61541ba",
   "metadata": {},
   "outputs": [
    {
     "data": {
      "text/plain": [
       "0.060349766769130474"
      ]
     },
     "execution_count": 63,
     "metadata": {},
     "output_type": "execute_result"
    }
   ],
   "source": [
    "np.var(arr)"
   ]
  },
  {
   "cell_type": "code",
   "execution_count": null,
   "id": "ba468cb5-d51d-4166-ae42-9c57c76a7a74",
   "metadata": {},
   "outputs": [],
   "source": [
    "arr[1:3]"
   ]
  },
  {
   "cell_type": "code",
   "execution_count": 64,
   "id": "2e4c1533-915f-4067-ba62-16864ad8c6ec",
   "metadata": {},
   "outputs": [
    {
     "data": {
      "text/plain": [
       "array([[0.19568196, 0.30932106, 0.45853813, 0.6421513 , 0.80197351,\n",
       "        0.88491451],\n",
       "       [0.08203664, 0.27551785, 0.48790374, 0.60316352, 0.64920619,\n",
       "        0.95634473],\n",
       "       [0.29947693, 0.49420895, 0.57740337, 0.78734481, 0.80135575,\n",
       "        0.80820198],\n",
       "       [0.2258658 , 0.25491067, 0.25962166, 0.386026  , 0.47869676,\n",
       "        0.91180527],\n",
       "       [0.14815991, 0.3721244 , 0.58306742, 0.60013853, 0.72367076,\n",
       "        0.89366677],\n",
       "       [0.29064189, 0.39642856, 0.40172214, 0.66189356, 0.72401228,\n",
       "        0.91561572]])"
      ]
     },
     "execution_count": 64,
     "metadata": {},
     "output_type": "execute_result"
    }
   ],
   "source": [
    "np.sort(arr)"
   ]
  },
  {
   "cell_type": "code",
   "execution_count": 65,
   "id": "a556d2a5-047a-4e2f-9fb1-287de31fdf13",
   "metadata": {},
   "outputs": [
    {
     "data": {
      "text/plain": [
       "array([[0.2258658 , 0.29947693, 0.14815991, 0.25962166, 0.25491067,\n",
       "        0.08203664],\n",
       "       [0.48790374, 0.3721244 , 0.19568196, 0.27551785, 0.45853813,\n",
       "        0.40172214],\n",
       "       [0.72367076, 0.47869676, 0.29064189, 0.30932106, 0.60316352,\n",
       "        0.60013853],\n",
       "       [0.72401228, 0.80197351, 0.386026  , 0.39642856, 0.66189356,\n",
       "        0.6421513 ],\n",
       "       [0.80820198, 0.91561572, 0.49420895, 0.57740337, 0.78734481,\n",
       "        0.80135575],\n",
       "       [0.88491451, 0.95634473, 0.64920619, 0.58306742, 0.89366677,\n",
       "        0.91180527]])"
      ]
     },
     "execution_count": 65,
     "metadata": {},
     "output_type": "execute_result"
    }
   ],
   "source": [
    "np.sort(arr, axis=0)"
   ]
  },
  {
   "cell_type": "code",
   "execution_count": 66,
   "id": "ff9fb6cc-6512-4fa7-9186-37c4f5ddafe4",
   "metadata": {},
   "outputs": [
    {
     "data": {
      "text/plain": [
       "array([[0.19568196, 0.30932106, 0.45853813, 0.6421513 , 0.80197351,\n",
       "        0.88491451],\n",
       "       [0.08203664, 0.27551785, 0.48790374, 0.60316352, 0.64920619,\n",
       "        0.95634473],\n",
       "       [0.29947693, 0.49420895, 0.57740337, 0.78734481, 0.80135575,\n",
       "        0.80820198],\n",
       "       [0.2258658 , 0.25491067, 0.25962166, 0.386026  , 0.47869676,\n",
       "        0.91180527],\n",
       "       [0.14815991, 0.3721244 , 0.58306742, 0.60013853, 0.72367076,\n",
       "        0.89366677],\n",
       "       [0.29064189, 0.39642856, 0.40172214, 0.66189356, 0.72401228,\n",
       "        0.91561572]])"
      ]
     },
     "execution_count": 66,
     "metadata": {},
     "output_type": "execute_result"
    }
   ],
   "source": [
    "np.sort(arr, axis=1)"
   ]
  },
  {
   "cell_type": "code",
   "execution_count": 67,
   "id": "81440e94-4f36-4a43-87ec-a53899dc96dc",
   "metadata": {},
   "outputs": [
    {
     "data": {
      "text/plain": [
       "array([[0.88491451, 0.48790374, 0.80820198, 0.2258658 , 0.72367076,\n",
       "        0.72401228],\n",
       "       [0.80197351, 0.95634473, 0.29947693, 0.47869676, 0.3721244 ,\n",
       "        0.91561572],\n",
       "       [0.19568196, 0.64920619, 0.49420895, 0.386026  , 0.14815991,\n",
       "        0.29064189],\n",
       "       [0.30932106, 0.27551785, 0.57740337, 0.25962166, 0.58306742,\n",
       "        0.39642856],\n",
       "       [0.45853813, 0.60316352, 0.78734481, 0.25491067, 0.89366677,\n",
       "        0.66189356],\n",
       "       [0.6421513 , 0.08203664, 0.80135575, 0.91180527, 0.60013853,\n",
       "        0.40172214]])"
      ]
     },
     "execution_count": 67,
     "metadata": {},
     "output_type": "execute_result"
    }
   ],
   "source": [
    "arr.T"
   ]
  },
  {
   "cell_type": "code",
   "execution_count": 70,
   "id": "f8e4cf85-008b-451c-bbaf-e2814a20b6ca",
   "metadata": {},
   "outputs": [
    {
     "data": {
      "text/plain": [
       "array([[0.88491451, 0.48790374],\n",
       "       [0.80197351, 0.95634473],\n",
       "       [0.19568196, 0.64920619],\n",
       "       [0.30932106, 0.27551785],\n",
       "       [0.45853813, 0.60316352],\n",
       "       [0.6421513 , 0.08203664]])"
      ]
     },
     "execution_count": 70,
     "metadata": {},
     "output_type": "execute_result"
    }
   ],
   "source": [
    "arr[:2,:].T"
   ]
  },
  {
   "cell_type": "code",
   "execution_count": 72,
   "id": "a17a599d-d15e-484b-a482-e55799eb4e09",
   "metadata": {},
   "outputs": [
    {
     "data": {
      "text/plain": [
       "array([[0.88491451, 0.48790374],\n",
       "       [0.80197351, 0.95634473],\n",
       "       [0.19568196, 0.64920619],\n",
       "       [0.30932106, 0.27551785],\n",
       "       [0.45853813, 0.60316352],\n",
       "       [0.6421513 , 0.08203664]])"
      ]
     },
     "execution_count": 72,
     "metadata": {},
     "output_type": "execute_result"
    }
   ],
   "source": [
    "arr[:2,:].transpose()"
   ]
  },
  {
   "cell_type": "code",
   "execution_count": 74,
   "id": "61fcc6ba-6b48-45d7-8d77-daed9bdc6260",
   "metadata": {},
   "outputs": [
    {
     "data": {
      "text/plain": [
       "array([0.88491451, 0.80197351, 0.19568196, 0.30932106, 0.45853813,\n",
       "       0.6421513 , 0.48790374, 0.95634473, 0.64920619, 0.27551785,\n",
       "       0.60316352, 0.08203664])"
      ]
     },
     "execution_count": 74,
     "metadata": {},
     "output_type": "execute_result"
    }
   ],
   "source": [
    "arr[:2,:].flatten()"
   ]
  },
  {
   "cell_type": "code",
   "execution_count": 78,
   "id": "72e602d0-bf45-4e1a-9d67-94f32f83fa57",
   "metadata": {},
   "outputs": [
    {
     "data": {
      "text/plain": [
       "array([5, 6, 7, 8, 9])"
      ]
     },
     "execution_count": 78,
     "metadata": {},
     "output_type": "execute_result"
    }
   ],
   "source": [
    "arr = np.array([5,6,7,8,9])\n",
    "arr"
   ]
  },
  {
   "cell_type": "code",
   "execution_count": 79,
   "id": "7ff53357-9f64-4e37-aad2-f8eaad388f0f",
   "metadata": {},
   "outputs": [
    {
     "data": {
      "text/plain": [
       "array([5, 6, 7, 8, 9, 7])"
      ]
     },
     "execution_count": 79,
     "metadata": {},
     "output_type": "execute_result"
    }
   ],
   "source": [
    "arr1 = np.append(arr, 7)\n",
    "arr1"
   ]
  },
  {
   "cell_type": "code",
   "execution_count": 80,
   "id": "0c5ef174-ac58-4236-8e1a-8d7b32207155",
   "metadata": {},
   "outputs": [
    {
     "data": {
      "text/plain": [
       "array([1, 2, 3, 5, 6, 7, 8, 9])"
      ]
     },
     "execution_count": 80,
     "metadata": {},
     "output_type": "execute_result"
    }
   ],
   "source": [
    "arr2 = np.insert(arr, 0, [1,2,3])\n",
    "arr2"
   ]
  },
  {
   "cell_type": "code",
   "execution_count": 82,
   "id": "90539e77-2569-40d5-bf12-3c125306d145",
   "metadata": {},
   "outputs": [
    {
     "data": {
      "text/plain": [
       "array([1, 2, 6, 7, 8, 9])"
      ]
     },
     "execution_count": 82,
     "metadata": {},
     "output_type": "execute_result"
    }
   ],
   "source": [
    "arr3 = np.delete(arr2, [2,3])\n",
    "arr3\n"
   ]
  },
  {
   "cell_type": "code",
   "execution_count": 84,
   "id": "cec8bff9-be4e-4b7e-ab08-893e27a6c87b",
   "metadata": {},
   "outputs": [
    {
     "data": {
      "text/plain": [
       "array([1, 2, 6, 7, 8, 9])"
      ]
     },
     "execution_count": 84,
     "metadata": {},
     "output_type": "execute_result"
    }
   ],
   "source": [
    "arrG = arr3.copy()\n",
    "arrG"
   ]
  },
  {
   "cell_type": "code",
   "execution_count": 87,
   "id": "760477ac-f8c9-466f-ad49-cee63aaba26d",
   "metadata": {},
   "outputs": [
    {
     "data": {
      "text/plain": [
       "array([[1, 2, 3, 4],\n",
       "       [5, 6, 7, 8],\n",
       "       [4, 6, 7, 8],\n",
       "       [1, 2, 3, 4]])"
      ]
     },
     "execution_count": 87,
     "metadata": {},
     "output_type": "execute_result"
    }
   ],
   "source": [
    "arr1 = np.array([[1,2,3,4], [5,6,7,8]])\n",
    "arr2 = np.array([[4,6,7,8], [1,2,3,4]])\n",
    "\n",
    "arr_ct = np.concatenate((arr1, arr2), axis=0)\n",
    "arr_ct"
   ]
  },
  {
   "cell_type": "code",
   "execution_count": 89,
   "id": "9c549b12-b6cc-4690-b0f8-5718d7adad87",
   "metadata": {},
   "outputs": [
    {
     "data": {
      "text/plain": [
       "array([[1, 2, 3, 4],\n",
       "       [5, 6, 7, 8],\n",
       "       [4, 6, 7, 8],\n",
       "       [1, 2, 3, 4]])"
      ]
     },
     "execution_count": 89,
     "metadata": {},
     "output_type": "execute_result"
    }
   ],
   "source": [
    "ctV = np.vstack((arr1, arr2))\n",
    "ctV\n"
   ]
  },
  {
   "cell_type": "code",
   "execution_count": 90,
   "id": "901eb83b-00a3-43ad-91ff-c7c495ca9122",
   "metadata": {},
   "outputs": [
    {
     "data": {
      "text/plain": [
       "array([[1, 2, 3, 4, 4, 6, 7, 8],\n",
       "       [5, 6, 7, 8, 1, 2, 3, 4]])"
      ]
     },
     "execution_count": 90,
     "metadata": {},
     "output_type": "execute_result"
    }
   ],
   "source": [
    "ctH = np.hstack((arr1, arr2))\n",
    "ctH"
   ]
  },
  {
   "cell_type": "markdown",
   "id": "ce7eea21-bdf7-4664-9f04-a302dfa72d6e",
   "metadata": {},
   "source": [
    "## 4. Counting function in data analysis"
   ]
  },
  {
   "cell_type": "code",
   "execution_count": 91,
   "id": "425e924a-e4cf-4e41-a295-6d1f1d518dbf",
   "metadata": {},
   "outputs": [
    {
     "data": {
      "text/plain": [
       "array([1, 2, 3, 4, 5, 6, 7, 1, 2, 4])"
      ]
     },
     "execution_count": 91,
     "metadata": {},
     "output_type": "execute_result"
    }
   ],
   "source": [
    "arr = np.array([1,2,3,4,5,6,7,1,2,4])\n",
    "arr"
   ]
  },
  {
   "cell_type": "code",
   "execution_count": 92,
   "id": "935cddce-6d21-44b8-8caf-06a6145598fb",
   "metadata": {},
   "outputs": [
    {
     "data": {
      "text/plain": [
       "array([1, 2, 3, 4, 5, 6, 7])"
      ]
     },
     "execution_count": 92,
     "metadata": {},
     "output_type": "execute_result"
    }
   ],
   "source": [
    "np.unique(arr)"
   ]
  },
  {
   "cell_type": "code",
   "execution_count": 95,
   "id": "e0557b8f-07a6-458f-aa67-d8e2efafa319",
   "metadata": {},
   "outputs": [
    {
     "name": "stdout",
     "output_type": "stream",
     "text": [
      "[1 2 3 4 5 6 7]\n",
      "[2 2 1 2 1 1 1]\n"
     ]
    }
   ],
   "source": [
    "uniques, count = np.unique(arr, return_counts=True)\n",
    "print(uniques)\n",
    "print(count)"
   ]
  },
  {
   "cell_type": "code",
   "execution_count": 104,
   "id": "9ef77838-6810-428d-b768-7991da206c70",
   "metadata": {},
   "outputs": [
    {
     "name": "stdout",
     "output_type": "stream",
     "text": [
      "[3 4]\n",
      "[1 2 3 4 5 6]\n",
      "[1 2]\n",
      "[1 2 5 6]\n"
     ]
    }
   ],
   "source": [
    "#intersecction, differentiation, neither\n",
    "arr1 = np.array([1,2,3,4])\n",
    "arr2 = np.array([3,4,5,6])\n",
    "\n",
    "print(np.intersect1d(arr1, arr2))\n",
    "print(np.union1d(arr1, arr2))\n",
    "print(np.setdiff1d(arr1, arr2))\n",
    "print(np.setxor1d(arr1, arr2))"
   ]
  },
  {
   "cell_type": "markdown",
   "id": "add348b1-6195-431a-9182-2c9aea850a73",
   "metadata": {},
   "source": [
    "## 5. Pandas & Pyplot"
   ]
  },
  {
   "cell_type": "code",
   "execution_count": 105,
   "id": "129ca4aa-86eb-44e5-a777-8a866556354f",
   "metadata": {},
   "outputs": [],
   "source": [
    "import pandas as pd\n",
    "import numpy as np\n",
    "import seaborn as sns\n",
    "import matplotlib.pyplot as plt\n",
    "\n",
    "%matplotlib inline\n",
    "\n",
    "sns.set(color_codes=True)"
   ]
  },
  {
   "cell_type": "code",
   "execution_count": 108,
   "id": "062dbdd4-94e0-4a9e-9302-29698ba20280",
   "metadata": {},
   "outputs": [
    {
     "data": {
      "text/html": [
       "<div>\n",
       "<style scoped>\n",
       "    .dataframe tbody tr th:only-of-type {\n",
       "        vertical-align: middle;\n",
       "    }\n",
       "\n",
       "    .dataframe tbody tr th {\n",
       "        vertical-align: top;\n",
       "    }\n",
       "\n",
       "    .dataframe thead th {\n",
       "        text-align: right;\n",
       "    }\n",
       "</style>\n",
       "<table border=\"1\" class=\"dataframe\">\n",
       "  <thead>\n",
       "    <tr style=\"text-align: right;\">\n",
       "      <th></th>\n",
       "      <th>Year</th>\n",
       "      <th>Industry_aggregation_NZSIOC</th>\n",
       "      <th>Industry_code_NZSIOC</th>\n",
       "      <th>Industry_name_NZSIOC</th>\n",
       "      <th>Units</th>\n",
       "      <th>Variable_code</th>\n",
       "      <th>Variable_name</th>\n",
       "      <th>Variable_category</th>\n",
       "      <th>Value</th>\n",
       "      <th>Industry_code_ANZSIC06</th>\n",
       "    </tr>\n",
       "  </thead>\n",
       "  <tbody>\n",
       "    <tr>\n",
       "      <th>0</th>\n",
       "      <td>2023</td>\n",
       "      <td>Level 1</td>\n",
       "      <td>99999</td>\n",
       "      <td>All industries</td>\n",
       "      <td>Dollars (millions)</td>\n",
       "      <td>H01</td>\n",
       "      <td>Total income</td>\n",
       "      <td>Financial performance</td>\n",
       "      <td>930995</td>\n",
       "      <td>ANZSIC06 divisions A-S (excluding classes K633...</td>\n",
       "    </tr>\n",
       "    <tr>\n",
       "      <th>1</th>\n",
       "      <td>2023</td>\n",
       "      <td>Level 1</td>\n",
       "      <td>99999</td>\n",
       "      <td>All industries</td>\n",
       "      <td>Dollars (millions)</td>\n",
       "      <td>H04</td>\n",
       "      <td>Sales, government funding, grants and subsidies</td>\n",
       "      <td>Financial performance</td>\n",
       "      <td>821630</td>\n",
       "      <td>ANZSIC06 divisions A-S (excluding classes K633...</td>\n",
       "    </tr>\n",
       "  </tbody>\n",
       "</table>\n",
       "</div>"
      ],
      "text/plain": [
       "   Year Industry_aggregation_NZSIOC Industry_code_NZSIOC Industry_name_NZSIOC  \\\n",
       "0  2023                     Level 1                99999       All industries   \n",
       "1  2023                     Level 1                99999       All industries   \n",
       "\n",
       "                Units Variable_code  \\\n",
       "0  Dollars (millions)           H01   \n",
       "1  Dollars (millions)           H04   \n",
       "\n",
       "                                     Variable_name      Variable_category  \\\n",
       "0                                     Total income  Financial performance   \n",
       "1  Sales, government funding, grants and subsidies  Financial performance   \n",
       "\n",
       "    Value                             Industry_code_ANZSIC06  \n",
       "0  930995  ANZSIC06 divisions A-S (excluding classes K633...  \n",
       "1  821630  ANZSIC06 divisions A-S (excluding classes K633...  "
      ]
     },
     "execution_count": 108,
     "metadata": {},
     "output_type": "execute_result"
    }
   ],
   "source": [
    "# Load the file\n",
    "fin = pd.read_csv('annual-enterprise-survey-2023-financial-year-provisional.csv')\n",
    "fin.head(2)"
   ]
  },
  {
   "cell_type": "code",
   "execution_count": 109,
   "id": "3011f076-df32-4ae0-964f-d833c277d23b",
   "metadata": {},
   "outputs": [
    {
     "data": {
      "text/plain": [
       "Year                            int64\n",
       "Industry_aggregation_NZSIOC    object\n",
       "Industry_code_NZSIOC           object\n",
       "Industry_name_NZSIOC           object\n",
       "Units                          object\n",
       "Variable_code                  object\n",
       "Variable_name                  object\n",
       "Variable_category              object\n",
       "Value                          object\n",
       "Industry_code_ANZSIC06         object\n",
       "dtype: object"
      ]
     },
     "execution_count": 109,
     "metadata": {},
     "output_type": "execute_result"
    }
   ],
   "source": [
    "fin.dtypes"
   ]
  },
  {
   "cell_type": "code",
   "execution_count": 110,
   "id": "eaeb16e7-de2d-4be8-acf2-3650c9c0a91d",
   "metadata": {},
   "outputs": [
    {
     "data": {
      "text/plain": [
       "array(['Year', 'Industry_aggregation_NZSIOC', 'Industry_code_NZSIOC',\n",
       "       'Industry_name_NZSIOC', 'Units', 'Variable_code', 'Variable_name',\n",
       "       'Variable_category', 'Value', 'Industry_code_ANZSIC06'],\n",
       "      dtype=object)"
      ]
     },
     "execution_count": 110,
     "metadata": {},
     "output_type": "execute_result"
    }
   ],
   "source": [
    "fin.columns.values"
   ]
  },
  {
   "cell_type": "code",
   "execution_count": 111,
   "id": "c3d48bd0-b621-41d1-a7a8-e283110f4f9b",
   "metadata": {},
   "outputs": [
    {
     "data": {
      "text/html": [
       "<div>\n",
       "<style scoped>\n",
       "    .dataframe tbody tr th:only-of-type {\n",
       "        vertical-align: middle;\n",
       "    }\n",
       "\n",
       "    .dataframe tbody tr th {\n",
       "        vertical-align: top;\n",
       "    }\n",
       "\n",
       "    .dataframe thead th {\n",
       "        text-align: right;\n",
       "    }\n",
       "</style>\n",
       "<table border=\"1\" class=\"dataframe\">\n",
       "  <thead>\n",
       "    <tr style=\"text-align: right;\">\n",
       "      <th></th>\n",
       "      <th>Year</th>\n",
       "      <th>Industry_aggregation_NZSIOC</th>\n",
       "      <th>Industry_code_NZSIOC</th>\n",
       "      <th>Industry_name_NZSIOC</th>\n",
       "      <th>Units</th>\n",
       "      <th>Variable_code</th>\n",
       "      <th>Variable_name</th>\n",
       "      <th>Variable_category</th>\n",
       "      <th>Value</th>\n",
       "      <th>Industry_code_ANZSIC06</th>\n",
       "    </tr>\n",
       "  </thead>\n",
       "  <tbody>\n",
       "    <tr>\n",
       "      <th>count</th>\n",
       "      <td>50985.000000</td>\n",
       "      <td>50985</td>\n",
       "      <td>50985</td>\n",
       "      <td>50985</td>\n",
       "      <td>50985</td>\n",
       "      <td>50985</td>\n",
       "      <td>50985</td>\n",
       "      <td>50985</td>\n",
       "      <td>50985</td>\n",
       "      <td>50985</td>\n",
       "    </tr>\n",
       "    <tr>\n",
       "      <th>unique</th>\n",
       "      <td>NaN</td>\n",
       "      <td>3</td>\n",
       "      <td>139</td>\n",
       "      <td>119</td>\n",
       "      <td>3</td>\n",
       "      <td>39</td>\n",
       "      <td>41</td>\n",
       "      <td>3</td>\n",
       "      <td>13673</td>\n",
       "      <td>121</td>\n",
       "    </tr>\n",
       "    <tr>\n",
       "      <th>top</th>\n",
       "      <td>NaN</td>\n",
       "      <td>Level 4</td>\n",
       "      <td>GH12</td>\n",
       "      <td>Public Order, Safety and Regulatory Services</td>\n",
       "      <td>Dollars (millions)</td>\n",
       "      <td>H01</td>\n",
       "      <td>Total income</td>\n",
       "      <td>Financial performance</td>\n",
       "      <td>C</td>\n",
       "      <td>ANZSIC06 group C170</td>\n",
       "    </tr>\n",
       "    <tr>\n",
       "      <th>freq</th>\n",
       "      <td>NaN</td>\n",
       "      <td>27907</td>\n",
       "      <td>396</td>\n",
       "      <td>961</td>\n",
       "      <td>40084</td>\n",
       "      <td>1529</td>\n",
       "      <td>1529</td>\n",
       "      <td>25487</td>\n",
       "      <td>2285</td>\n",
       "      <td>792</td>\n",
       "    </tr>\n",
       "    <tr>\n",
       "      <th>mean</th>\n",
       "      <td>2018.000000</td>\n",
       "      <td>NaN</td>\n",
       "      <td>NaN</td>\n",
       "      <td>NaN</td>\n",
       "      <td>NaN</td>\n",
       "      <td>NaN</td>\n",
       "      <td>NaN</td>\n",
       "      <td>NaN</td>\n",
       "      <td>NaN</td>\n",
       "      <td>NaN</td>\n",
       "    </tr>\n",
       "    <tr>\n",
       "      <th>std</th>\n",
       "      <td>3.162309</td>\n",
       "      <td>NaN</td>\n",
       "      <td>NaN</td>\n",
       "      <td>NaN</td>\n",
       "      <td>NaN</td>\n",
       "      <td>NaN</td>\n",
       "      <td>NaN</td>\n",
       "      <td>NaN</td>\n",
       "      <td>NaN</td>\n",
       "      <td>NaN</td>\n",
       "    </tr>\n",
       "    <tr>\n",
       "      <th>min</th>\n",
       "      <td>2013.000000</td>\n",
       "      <td>NaN</td>\n",
       "      <td>NaN</td>\n",
       "      <td>NaN</td>\n",
       "      <td>NaN</td>\n",
       "      <td>NaN</td>\n",
       "      <td>NaN</td>\n",
       "      <td>NaN</td>\n",
       "      <td>NaN</td>\n",
       "      <td>NaN</td>\n",
       "    </tr>\n",
       "    <tr>\n",
       "      <th>25%</th>\n",
       "      <td>2015.000000</td>\n",
       "      <td>NaN</td>\n",
       "      <td>NaN</td>\n",
       "      <td>NaN</td>\n",
       "      <td>NaN</td>\n",
       "      <td>NaN</td>\n",
       "      <td>NaN</td>\n",
       "      <td>NaN</td>\n",
       "      <td>NaN</td>\n",
       "      <td>NaN</td>\n",
       "    </tr>\n",
       "    <tr>\n",
       "      <th>50%</th>\n",
       "      <td>2018.000000</td>\n",
       "      <td>NaN</td>\n",
       "      <td>NaN</td>\n",
       "      <td>NaN</td>\n",
       "      <td>NaN</td>\n",
       "      <td>NaN</td>\n",
       "      <td>NaN</td>\n",
       "      <td>NaN</td>\n",
       "      <td>NaN</td>\n",
       "      <td>NaN</td>\n",
       "    </tr>\n",
       "    <tr>\n",
       "      <th>75%</th>\n",
       "      <td>2021.000000</td>\n",
       "      <td>NaN</td>\n",
       "      <td>NaN</td>\n",
       "      <td>NaN</td>\n",
       "      <td>NaN</td>\n",
       "      <td>NaN</td>\n",
       "      <td>NaN</td>\n",
       "      <td>NaN</td>\n",
       "      <td>NaN</td>\n",
       "      <td>NaN</td>\n",
       "    </tr>\n",
       "    <tr>\n",
       "      <th>max</th>\n",
       "      <td>2023.000000</td>\n",
       "      <td>NaN</td>\n",
       "      <td>NaN</td>\n",
       "      <td>NaN</td>\n",
       "      <td>NaN</td>\n",
       "      <td>NaN</td>\n",
       "      <td>NaN</td>\n",
       "      <td>NaN</td>\n",
       "      <td>NaN</td>\n",
       "      <td>NaN</td>\n",
       "    </tr>\n",
       "  </tbody>\n",
       "</table>\n",
       "</div>"
      ],
      "text/plain": [
       "                Year Industry_aggregation_NZSIOC Industry_code_NZSIOC  \\\n",
       "count   50985.000000                       50985                50985   \n",
       "unique           NaN                           3                  139   \n",
       "top              NaN                     Level 4                 GH12   \n",
       "freq             NaN                       27907                  396   \n",
       "mean     2018.000000                         NaN                  NaN   \n",
       "std         3.162309                         NaN                  NaN   \n",
       "min      2013.000000                         NaN                  NaN   \n",
       "25%      2015.000000                         NaN                  NaN   \n",
       "50%      2018.000000                         NaN                  NaN   \n",
       "75%      2021.000000                         NaN                  NaN   \n",
       "max      2023.000000                         NaN                  NaN   \n",
       "\n",
       "                                Industry_name_NZSIOC               Units  \\\n",
       "count                                          50985               50985   \n",
       "unique                                           119                   3   \n",
       "top     Public Order, Safety and Regulatory Services  Dollars (millions)   \n",
       "freq                                             961               40084   \n",
       "mean                                             NaN                 NaN   \n",
       "std                                              NaN                 NaN   \n",
       "min                                              NaN                 NaN   \n",
       "25%                                              NaN                 NaN   \n",
       "50%                                              NaN                 NaN   \n",
       "75%                                              NaN                 NaN   \n",
       "max                                              NaN                 NaN   \n",
       "\n",
       "       Variable_code Variable_name      Variable_category  Value  \\\n",
       "count          50985         50985                  50985  50985   \n",
       "unique            39            41                      3  13673   \n",
       "top              H01  Total income  Financial performance      C   \n",
       "freq            1529          1529                  25487   2285   \n",
       "mean             NaN           NaN                    NaN    NaN   \n",
       "std              NaN           NaN                    NaN    NaN   \n",
       "min              NaN           NaN                    NaN    NaN   \n",
       "25%              NaN           NaN                    NaN    NaN   \n",
       "50%              NaN           NaN                    NaN    NaN   \n",
       "75%              NaN           NaN                    NaN    NaN   \n",
       "max              NaN           NaN                    NaN    NaN   \n",
       "\n",
       "       Industry_code_ANZSIC06  \n",
       "count                   50985  \n",
       "unique                    121  \n",
       "top       ANZSIC06 group C170  \n",
       "freq                      792  \n",
       "mean                      NaN  \n",
       "std                       NaN  \n",
       "min                       NaN  \n",
       "25%                       NaN  \n",
       "50%                       NaN  \n",
       "75%                       NaN  \n",
       "max                       NaN  "
      ]
     },
     "execution_count": 111,
     "metadata": {},
     "output_type": "execute_result"
    }
   ],
   "source": [
    "fin.describe(include='all')"
   ]
  },
  {
   "cell_type": "code",
   "execution_count": 112,
   "id": "509b0856-7681-4c07-8d15-5624656a08fe",
   "metadata": {},
   "outputs": [
    {
     "data": {
      "text/plain": [
       "array([[<Axes: title={'center': 'Year'}>]], dtype=object)"
      ]
     },
     "execution_count": 112,
     "metadata": {},
     "output_type": "execute_result"
    }
   ],
   "source": [
    "fin.hist(figsize=(15,30))"
   ]
  },
  {
   "cell_type": "code",
   "execution_count": 116,
   "id": "d1a91dc9-58b5-4ff5-9a91-b5bd9420a2a1",
   "metadata": {},
   "outputs": [],
   "source": [
    "# Relationship between categorial and continous variables\n",
    "# sns.boxplot(x=\"Year\", y=\"Industry_aggregation_NZSIOC\")"
   ]
  },
  {
   "cell_type": "markdown",
   "id": "bb640b90-50f5-4c1f-9a54-8fc1616b1818",
   "metadata": {},
   "source": [
    "## 6. Linear Regression & Heatmap"
   ]
  },
  {
   "cell_type": "code",
   "execution_count": 118,
   "id": "75f351b8-0e59-46de-8e94-897a114c18d6",
   "metadata": {},
   "outputs": [
    {
     "data": {
      "image/png": "[encoded data removed]",
      "text/plain": [
       "<Figure size 400x700 with 2 Axes>"
      ]
     },
     "metadata": {},
     "output_type": "display_data"
    }
   ],
   "source": [
    "np.random.seed(40)\n",
    "\n",
    "data = pd.DataFrame({\n",
    "    'Feature1' : np.random.rand(100), \n",
    "    'Feature2' : np.random.rand(100) * 2,\n",
    "    'Feature3' : np.random.rand(100) * 3,\n",
    "    'Feature4' : np.random.rand(100) * 4,\n",
    "    'Feature5' : np.random.rand(100) * 5,\n",
    "}\n",
    "                   )\n",
    "# Calculation of the correlation matrix\n",
    "corr_matrix = data.corr()\n",
    "\n",
    "# Plotting the heat map\n",
    "plt.figure(figsize=(4, 7))\n",
    "heatmap = sns.heatmap(corr_matrix, annot=True, cmap=\"coolwarm\", center=0)\n",
    "plt.title(\"Correlation of heatmap\")\n",
    "plt.show()"
   ]
  },
  {
   "cell_type": "markdown",
   "id": "86945ab0-89b5-41f7-a637-bf1a36592f43",
   "metadata": {},
   "source": [
    "## 7. Dropna"
   ]
  },
  {
   "cell_type": "code",
   "execution_count": 125,
   "id": "8a022b49-d2a5-48d0-8a4a-97bb09eb11af",
   "metadata": {},
   "outputs": [
    {
     "name": "stdout",
     "output_type": "stream",
     "text": [
      "Original dataframe:\n"
     ]
    },
    {
     "data": {
      "text/html": [
       "<div>\n",
       "<style scoped>\n",
       "    .dataframe tbody tr th:only-of-type {\n",
       "        vertical-align: middle;\n",
       "    }\n",
       "\n",
       "    .dataframe tbody tr th {\n",
       "        vertical-align: top;\n",
       "    }\n",
       "\n",
       "    .dataframe thead th {\n",
       "        text-align: right;\n",
       "    }\n",
       "</style>\n",
       "<table border=\"1\" class=\"dataframe\">\n",
       "  <thead>\n",
       "    <tr style=\"text-align: right;\">\n",
       "      <th></th>\n",
       "      <th>X</th>\n",
       "      <th>Y</th>\n",
       "      <th>Z</th>\n",
       "    </tr>\n",
       "  </thead>\n",
       "  <tbody>\n",
       "    <tr>\n",
       "      <th>0</th>\n",
       "      <td>1.0</td>\n",
       "      <td>5</td>\n",
       "      <td>NaN</td>\n",
       "    </tr>\n",
       "    <tr>\n",
       "      <th>1</th>\n",
       "      <td>2.0</td>\n",
       "      <td>6</td>\n",
       "      <td>2.0</td>\n",
       "    </tr>\n",
       "    <tr>\n",
       "      <th>2</th>\n",
       "      <td>3.0</td>\n",
       "      <td>4</td>\n",
       "      <td>3.0</td>\n",
       "    </tr>\n",
       "    <tr>\n",
       "      <th>3</th>\n",
       "      <td>NaN</td>\n",
       "      <td>7</td>\n",
       "      <td>4.0</td>\n",
       "    </tr>\n",
       "    <tr>\n",
       "      <th>4</th>\n",
       "      <td>5.0</td>\n",
       "      <td>8</td>\n",
       "      <td>NaN</td>\n",
       "    </tr>\n",
       "  </tbody>\n",
       "</table>\n",
       "</div>"
      ],
      "text/plain": [
       "     X  Y    Z\n",
       "0  1.0  5  NaN\n",
       "1  2.0  6  2.0\n",
       "2  3.0  4  3.0\n",
       "3  NaN  7  4.0\n",
       "4  5.0  8  NaN"
      ]
     },
     "metadata": {},
     "output_type": "display_data"
    },
    {
     "name": "stdout",
     "output_type": "stream",
     "text": [
      "\n",
      "Dataframe after dropping rows with any NaN values\n"
     ]
    },
    {
     "data": {
      "text/html": [
       "<div>\n",
       "<style scoped>\n",
       "    .dataframe tbody tr th:only-of-type {\n",
       "        vertical-align: middle;\n",
       "    }\n",
       "\n",
       "    .dataframe tbody tr th {\n",
       "        vertical-align: top;\n",
       "    }\n",
       "\n",
       "    .dataframe thead th {\n",
       "        text-align: right;\n",
       "    }\n",
       "</style>\n",
       "<table border=\"1\" class=\"dataframe\">\n",
       "  <thead>\n",
       "    <tr style=\"text-align: right;\">\n",
       "      <th></th>\n",
       "      <th>X</th>\n",
       "      <th>Y</th>\n",
       "      <th>Z</th>\n",
       "    </tr>\n",
       "  </thead>\n",
       "  <tbody>\n",
       "    <tr>\n",
       "      <th>1</th>\n",
       "      <td>2.0</td>\n",
       "      <td>6</td>\n",
       "      <td>2.0</td>\n",
       "    </tr>\n",
       "    <tr>\n",
       "      <th>2</th>\n",
       "      <td>3.0</td>\n",
       "      <td>4</td>\n",
       "      <td>3.0</td>\n",
       "    </tr>\n",
       "  </tbody>\n",
       "</table>\n",
       "</div>"
      ],
      "text/plain": [
       "     X  Y    Z\n",
       "1  2.0  6  2.0\n",
       "2  3.0  4  3.0"
      ]
     },
     "metadata": {},
     "output_type": "display_data"
    },
    {
     "name": "stdout",
     "output_type": "stream",
     "text": [
      "\n",
      "Dataframe after dropping columns with any NaN values\n"
     ]
    },
    {
     "data": {
      "text/html": [
       "<div>\n",
       "<style scoped>\n",
       "    .dataframe tbody tr th:only-of-type {\n",
       "        vertical-align: middle;\n",
       "    }\n",
       "\n",
       "    .dataframe tbody tr th {\n",
       "        vertical-align: top;\n",
       "    }\n",
       "\n",
       "    .dataframe thead th {\n",
       "        text-align: right;\n",
       "    }\n",
       "</style>\n",
       "<table border=\"1\" class=\"dataframe\">\n",
       "  <thead>\n",
       "    <tr style=\"text-align: right;\">\n",
       "      <th></th>\n",
       "      <th>Y</th>\n",
       "    </tr>\n",
       "  </thead>\n",
       "  <tbody>\n",
       "    <tr>\n",
       "      <th>0</th>\n",
       "      <td>5</td>\n",
       "    </tr>\n",
       "    <tr>\n",
       "      <th>1</th>\n",
       "      <td>6</td>\n",
       "    </tr>\n",
       "    <tr>\n",
       "      <th>2</th>\n",
       "      <td>4</td>\n",
       "    </tr>\n",
       "    <tr>\n",
       "      <th>3</th>\n",
       "      <td>7</td>\n",
       "    </tr>\n",
       "    <tr>\n",
       "      <th>4</th>\n",
       "      <td>8</td>\n",
       "    </tr>\n",
       "  </tbody>\n",
       "</table>\n",
       "</div>"
      ],
      "text/plain": [
       "   Y\n",
       "0  5\n",
       "1  6\n",
       "2  4\n",
       "3  7\n",
       "4  8"
      ]
     },
     "metadata": {},
     "output_type": "display_data"
    },
    {
     "name": "stdout",
     "output_type": "stream",
     "text": [
      "\n",
      "Dataframe after dropping columns with any NaN values in column X:\n"
     ]
    },
    {
     "data": {
      "text/html": [
       "<div>\n",
       "<style scoped>\n",
       "    .dataframe tbody tr th:only-of-type {\n",
       "        vertical-align: middle;\n",
       "    }\n",
       "\n",
       "    .dataframe tbody tr th {\n",
       "        vertical-align: top;\n",
       "    }\n",
       "\n",
       "    .dataframe thead th {\n",
       "        text-align: right;\n",
       "    }\n",
       "</style>\n",
       "<table border=\"1\" class=\"dataframe\">\n",
       "  <thead>\n",
       "    <tr style=\"text-align: right;\">\n",
       "      <th></th>\n",
       "      <th>X</th>\n",
       "      <th>Y</th>\n",
       "      <th>Z</th>\n",
       "    </tr>\n",
       "  </thead>\n",
       "  <tbody>\n",
       "    <tr>\n",
       "      <th>0</th>\n",
       "      <td>1.0</td>\n",
       "      <td>5</td>\n",
       "      <td>NaN</td>\n",
       "    </tr>\n",
       "    <tr>\n",
       "      <th>1</th>\n",
       "      <td>2.0</td>\n",
       "      <td>6</td>\n",
       "      <td>2.0</td>\n",
       "    </tr>\n",
       "    <tr>\n",
       "      <th>2</th>\n",
       "      <td>3.0</td>\n",
       "      <td>4</td>\n",
       "      <td>3.0</td>\n",
       "    </tr>\n",
       "    <tr>\n",
       "      <th>4</th>\n",
       "      <td>5.0</td>\n",
       "      <td>8</td>\n",
       "      <td>NaN</td>\n",
       "    </tr>\n",
       "  </tbody>\n",
       "</table>\n",
       "</div>"
      ],
      "text/plain": [
       "     X  Y    Z\n",
       "0  1.0  5  NaN\n",
       "1  2.0  6  2.0\n",
       "2  3.0  4  3.0\n",
       "4  5.0  8  NaN"
      ]
     },
     "metadata": {},
     "output_type": "display_data"
    }
   ],
   "source": [
    "# Import libraries\n",
    "import pandas as pd\n",
    "import numpy as np\n",
    "\n",
    "#Creating sample dataset\n",
    "\n",
    "dat = {\n",
    "    'X': [1, 2, 3, np.nan, 5],\n",
    "    'Y': [5, 6, 4, 7, 8], \n",
    "    'Z': [np.nan, 2, 3, 4, np.nan]\n",
    "}\n",
    "\n",
    "df = pd.DataFrame(dat)\n",
    "print('Original dataframe:')\n",
    "display(df)\n",
    "\n",
    "df_dropna_rows = df.dropna()\n",
    "print('\\nDataframe after dropping rows with any NaN values')\n",
    "display(df_dropna_rows)\n",
    "\n",
    "df_dropna_columns = df.dropna(axis=1)\n",
    "print('\\nDataframe after dropping columns with any NaN values')\n",
    "display(df_dropna_columns)\n",
    "\n",
    "df_dropna_specific = df.dropna(subset=['X'])\n",
    "print('\\nDataframe after dropping columns with any NaN values in column X:')\n",
    "display(df_dropna_specific)"
   ]
  },
  {
   "cell_type": "markdown",
   "id": "e1ebdbf8-2df9-4430-b06a-e0665f0026ee",
   "metadata": {},
   "source": [
    "## 8. Pivot Tables"
   ]
  },
  {
   "cell_type": "code",
   "execution_count": 6,
   "id": "85138d02-6d7d-4f1b-9aaa-f4d2f4c5d3b0",
   "metadata": {},
   "outputs": [
    {
     "name": "stdout",
     "output_type": "stream",
     "text": [
      "Original datafreme: \n"
     ]
    },
    {
     "data": {
      "text/html": [
       "<div>\n",
       "<style scoped>\n",
       "    .dataframe tbody tr th:only-of-type {\n",
       "        vertical-align: middle;\n",
       "    }\n",
       "\n",
       "    .dataframe tbody tr th {\n",
       "        vertical-align: top;\n",
       "    }\n",
       "\n",
       "    .dataframe thead th {\n",
       "        text-align: right;\n",
       "    }\n",
       "</style>\n",
       "<table border=\"1\" class=\"dataframe\">\n",
       "  <thead>\n",
       "    <tr style=\"text-align: right;\">\n",
       "      <th></th>\n",
       "      <th>Product</th>\n",
       "      <th>Region</th>\n",
       "      <th>Sales</th>\n",
       "      <th>Units</th>\n",
       "      <th>Profit</th>\n",
       "    </tr>\n",
       "  </thead>\n",
       "  <tbody>\n",
       "    <tr>\n",
       "      <th>0</th>\n",
       "      <td>x</td>\n",
       "      <td>East</td>\n",
       "      <td>Sim</td>\n",
       "      <td>12</td>\n",
       "      <td>299</td>\n",
       "    </tr>\n",
       "    <tr>\n",
       "      <th>1</th>\n",
       "      <td>x</td>\n",
       "      <td>West</td>\n",
       "      <td>Jack</td>\n",
       "      <td>15</td>\n",
       "      <td>100</td>\n",
       "    </tr>\n",
       "    <tr>\n",
       "      <th>2</th>\n",
       "      <td>y</td>\n",
       "      <td>East</td>\n",
       "      <td>Sim</td>\n",
       "      <td>28</td>\n",
       "      <td>255</td>\n",
       "    </tr>\n",
       "    <tr>\n",
       "      <th>3</th>\n",
       "      <td>y</td>\n",
       "      <td>West</td>\n",
       "      <td>Jack</td>\n",
       "      <td>31</td>\n",
       "      <td>256</td>\n",
       "    </tr>\n",
       "    <tr>\n",
       "      <th>4</th>\n",
       "      <td>z</td>\n",
       "      <td>East</td>\n",
       "      <td>Sim</td>\n",
       "      <td>90</td>\n",
       "      <td>325</td>\n",
       "    </tr>\n",
       "    <tr>\n",
       "      <th>5</th>\n",
       "      <td>x</td>\n",
       "      <td>West</td>\n",
       "      <td>Jack</td>\n",
       "      <td>20</td>\n",
       "      <td>202</td>\n",
       "    </tr>\n",
       "    <tr>\n",
       "      <th>6</th>\n",
       "      <td>y</td>\n",
       "      <td>East</td>\n",
       "      <td>Sim</td>\n",
       "      <td>13</td>\n",
       "      <td>202</td>\n",
       "    </tr>\n",
       "    <tr>\n",
       "      <th>7</th>\n",
       "      <td>z</td>\n",
       "      <td>West</td>\n",
       "      <td>Jack</td>\n",
       "      <td>22</td>\n",
       "      <td>654</td>\n",
       "    </tr>\n",
       "  </tbody>\n",
       "</table>\n",
       "</div>"
      ],
      "text/plain": [
       "  Product Region Sales  Units  Profit\n",
       "0       x   East   Sim     12     299\n",
       "1       x   West  Jack     15     100\n",
       "2       y   East   Sim     28     255\n",
       "3       y   West  Jack     31     256\n",
       "4       z   East   Sim     90     325\n",
       "5       x   West  Jack     20     202\n",
       "6       y   East   Sim     13     202\n",
       "7       z   West  Jack     22     654"
      ]
     },
     "metadata": {},
     "output_type": "display_data"
    },
    {
     "name": "stdout",
     "output_type": "stream",
     "text": [
      "Pivot Table. Total Units by Region: \n"
     ]
    },
    {
     "data": {
      "text/html": [
       "<div>\n",
       "<style scoped>\n",
       "    .dataframe tbody tr th:only-of-type {\n",
       "        vertical-align: middle;\n",
       "    }\n",
       "\n",
       "    .dataframe tbody tr th {\n",
       "        vertical-align: top;\n",
       "    }\n",
       "\n",
       "    .dataframe thead th {\n",
       "        text-align: right;\n",
       "    }\n",
       "</style>\n",
       "<table border=\"1\" class=\"dataframe\">\n",
       "  <thead>\n",
       "    <tr style=\"text-align: right;\">\n",
       "      <th>Region</th>\n",
       "      <th>East</th>\n",
       "      <th>West</th>\n",
       "    </tr>\n",
       "    <tr>\n",
       "      <th>Product</th>\n",
       "      <th></th>\n",
       "      <th></th>\n",
       "    </tr>\n",
       "  </thead>\n",
       "  <tbody>\n",
       "    <tr>\n",
       "      <th>x</th>\n",
       "      <td>12</td>\n",
       "      <td>35</td>\n",
       "    </tr>\n",
       "    <tr>\n",
       "      <th>y</th>\n",
       "      <td>41</td>\n",
       "      <td>31</td>\n",
       "    </tr>\n",
       "    <tr>\n",
       "      <th>z</th>\n",
       "      <td>90</td>\n",
       "      <td>22</td>\n",
       "    </tr>\n",
       "  </tbody>\n",
       "</table>\n",
       "</div>"
      ],
      "text/plain": [
       "Region   East  West\n",
       "Product            \n",
       "x          12    35\n",
       "y          41    31\n",
       "z          90    22"
      ]
     },
     "metadata": {},
     "output_type": "display_data"
    },
    {
     "name": "stdout",
     "output_type": "stream",
     "text": [
      "Pivot Table. Average profit per sales per each product: \n"
     ]
    },
    {
     "data": {
      "text/html": [
       "<div>\n",
       "<style scoped>\n",
       "    .dataframe tbody tr th:only-of-type {\n",
       "        vertical-align: middle;\n",
       "    }\n",
       "\n",
       "    .dataframe tbody tr th {\n",
       "        vertical-align: top;\n",
       "    }\n",
       "\n",
       "    .dataframe thead th {\n",
       "        text-align: right;\n",
       "    }\n",
       "</style>\n",
       "<table border=\"1\" class=\"dataframe\">\n",
       "  <thead>\n",
       "    <tr style=\"text-align: right;\">\n",
       "      <th>Sales</th>\n",
       "      <th>Jack</th>\n",
       "      <th>Sim</th>\n",
       "    </tr>\n",
       "    <tr>\n",
       "      <th>Product</th>\n",
       "      <th></th>\n",
       "      <th></th>\n",
       "    </tr>\n",
       "  </thead>\n",
       "  <tbody>\n",
       "    <tr>\n",
       "      <th>x</th>\n",
       "      <td>151.0</td>\n",
       "      <td>299.0</td>\n",
       "    </tr>\n",
       "    <tr>\n",
       "      <th>y</th>\n",
       "      <td>256.0</td>\n",
       "      <td>228.5</td>\n",
       "    </tr>\n",
       "    <tr>\n",
       "      <th>z</th>\n",
       "      <td>654.0</td>\n",
       "      <td>325.0</td>\n",
       "    </tr>\n",
       "  </tbody>\n",
       "</table>\n",
       "</div>"
      ],
      "text/plain": [
       "Sales     Jack    Sim\n",
       "Product              \n",
       "x        151.0  299.0\n",
       "y        256.0  228.5\n",
       "z        654.0  325.0"
      ]
     },
     "metadata": {},
     "output_type": "display_data"
    },
    {
     "name": "stdout",
     "output_type": "stream",
     "text": [
      "Pivot Table. Total in average units by products and regions: \n"
     ]
    },
    {
     "data": {
      "text/html": [
       "<div>\n",
       "<style scoped>\n",
       "    .dataframe tbody tr th:only-of-type {\n",
       "        vertical-align: middle;\n",
       "    }\n",
       "\n",
       "    .dataframe tbody tr th {\n",
       "        vertical-align: top;\n",
       "    }\n",
       "\n",
       "    .dataframe thead tr th {\n",
       "        text-align: left;\n",
       "    }\n",
       "\n",
       "    .dataframe thead tr:last-of-type th {\n",
       "        text-align: right;\n",
       "    }\n",
       "</style>\n",
       "<table border=\"1\" class=\"dataframe\">\n",
       "  <thead>\n",
       "    <tr>\n",
       "      <th></th>\n",
       "      <th colspan=\"2\" halign=\"left\">sum</th>\n",
       "      <th colspan=\"2\" halign=\"left\">mean</th>\n",
       "    </tr>\n",
       "    <tr>\n",
       "      <th>Region</th>\n",
       "      <th>East</th>\n",
       "      <th>West</th>\n",
       "      <th>East</th>\n",
       "      <th>West</th>\n",
       "    </tr>\n",
       "    <tr>\n",
       "      <th>Product</th>\n",
       "      <th></th>\n",
       "      <th></th>\n",
       "      <th></th>\n",
       "      <th></th>\n",
       "    </tr>\n",
       "  </thead>\n",
       "  <tbody>\n",
       "    <tr>\n",
       "      <th>x</th>\n",
       "      <td>12</td>\n",
       "      <td>35</td>\n",
       "      <td>12.0</td>\n",
       "      <td>17.5</td>\n",
       "    </tr>\n",
       "    <tr>\n",
       "      <th>y</th>\n",
       "      <td>41</td>\n",
       "      <td>31</td>\n",
       "      <td>20.5</td>\n",
       "      <td>31.0</td>\n",
       "    </tr>\n",
       "    <tr>\n",
       "      <th>z</th>\n",
       "      <td>90</td>\n",
       "      <td>22</td>\n",
       "      <td>90.0</td>\n",
       "      <td>22.0</td>\n",
       "    </tr>\n",
       "  </tbody>\n",
       "</table>\n",
       "</div>"
      ],
      "text/plain": [
       "         sum       mean      \n",
       "Region  East West  East  West\n",
       "Product                      \n",
       "x         12   35  12.0  17.5\n",
       "y         41   31  20.5  31.0\n",
       "z         90   22  90.0  22.0"
      ]
     },
     "metadata": {},
     "output_type": "display_data"
    }
   ],
   "source": [
    "# Creating a dataset\n",
    "\n",
    "data = {\n",
    "    'Product': ['x', 'x', 'y', 'y', 'z', 'x', 'y', 'z'],\n",
    "    'Region': ['East', 'West','East', 'West','East', 'West','East', 'West'],\n",
    "    'Sales': ['Sim', 'Jack','Sim', 'Jack','Sim', 'Jack','Sim', 'Jack'],\n",
    "    'Units': [12,15,28,31,90,20,13,22],\n",
    "    'Profit': [299,100,255,256,325,202,202,654]\n",
    "}\n",
    "\n",
    "df = pd.DataFrame(data)\n",
    "print('Original datafreme: ')\n",
    "display(df)\n",
    "\n",
    "pivot_table_units = pd.pivot_table(df, values='Units', index='Product', columns = 'Region', aggfunc='sum')\n",
    "print('Pivot Table. Total Units by Region: ')\n",
    "display(pivot_table_units)\n",
    "\n",
    "pivot_table_profit = pd.pivot_table(df, values='Profit', index='Product', columns = 'Sales', aggfunc='mean')\n",
    "print('Pivot Table. Average profit per sales per each product: ')\n",
    "display(pivot_table_profit)\n",
    "\n",
    "pivot_table_double = pd.pivot_table(df, values='Units', index='Product', columns = 'Region', aggfunc=['sum', 'mean'])\n",
    "print('Pivot Table. Total in average units by products and regions: ')\n",
    "display(pivot_table_double)"
   ]
  },
  {
   "cell_type": "markdown",
   "id": "53a25b5d-faec-4d91-b682-9b82e35c8a29",
   "metadata": {},
   "source": [
    "## 9. DF Rolling"
   ]
  },
  {
   "cell_type": "code",
   "execution_count": 2,
   "id": "8f886ba6-886c-4376-8c27-207584f42f28",
   "metadata": {},
   "outputs": [],
   "source": [
    "import pandas as pd\n",
    "import numpy as np"
   ]
  },
  {
   "cell_type": "code",
   "execution_count": 10,
   "id": "dd1c8448-8eea-4d77-b627-e00f43d41982",
   "metadata": {},
   "outputs": [
    {
     "name": "stdout",
     "output_type": "stream",
     "text": [
      "Sample Data with Rolling Calculation: \n",
      "            Sales    7 day MA  7 day Std\n",
      "Date                                    \n",
      "2024-01-01    169         NaN        NaN\n",
      "2024-01-02    190         NaN        NaN\n",
      "2024-01-03    106         NaN        NaN\n",
      "2024-01-04    136         NaN        NaN\n",
      "2024-01-05    155         NaN        NaN\n",
      "2024-01-06    149         NaN        NaN\n",
      "2024-01-07    164  152.714286  26.656546\n",
      "2024-01-08    111  144.428571  29.602123\n",
      "2024-01-09    170  141.571429  25.092211\n",
      "2024-01-10    118  143.285714  22.536742\n",
      "2024-01-11    130  142.428571  22.969960\n",
      "2024-01-12    173  145.000000  25.482020\n",
      "2024-01-13    154  145.714286  25.682123\n",
      "2024-01-14    182  148.285714  28.558211\n"
     ]
    }
   ],
   "source": [
    "# Generate a sample dataset\n",
    "np.random.seed(40)\n",
    "dates = pd.date_range(start='2024-01-01', periods=99)\n",
    "data = {'Date': dates, 'Sales': np.random.randint(99,198,size=99)}\n",
    "df = pd.DataFrame(data)\n",
    "df.set_index('Date', inplace=True)\n",
    "\n",
    "# Calculation of seven day average sale\n",
    "df['7 day MA'] = df['Sales'].rolling(window=7).mean()\n",
    "\n",
    "#Calculate of 7 day rolling standard sale\n",
    "df['7 day Std'] = df['Sales'].rolling(window=7).std()\n",
    "\n",
    "#Display DF\n",
    "print('Sample Data with Rolling Calculation: ')\n",
    "print(df.head(14))"
   ]
  },
  {
   "cell_type": "markdown",
   "id": "7a3e640f-6fad-401d-a003-c9ac5d03670a",
   "metadata": {},
   "source": [
    "## 10. pd.merge() and pd.concat()"
   ]
  },
  {
   "cell_type": "code",
   "execution_count": 35,
   "id": "7599f1c5-7d6b-4150-9c36-bd3766994e1a",
   "metadata": {},
   "outputs": [],
   "source": [
    "df_id = pd.DataFrame({\n",
    "    'name': ['Jack','Mel','Rin', 'Sim'],\n",
    "    'id': [2,3,4,5]\n",
    "})"
   ]
  },
  {
   "cell_type": "code",
   "execution_count": 36,
   "id": "2e10172a-c598-468e-a39e-5621614c941d",
   "metadata": {},
   "outputs": [],
   "source": [
    "df_orders = pd.DataFrame({\n",
    "    'OrderID': [111,222,333,4],\n",
    "    'id': [2,3,4,5],\n",
    "    'Amount': [200, 232, 260,432]\n",
    "})"
   ]
  },
  {
   "cell_type": "code",
   "execution_count": 37,
   "id": "84196786-2f80-4f7f-8643-6f4ab97c8082",
   "metadata": {},
   "outputs": [
    {
     "name": "stdout",
     "output_type": "stream",
     "text": [
      "Merged dataframe: \n"
     ]
    },
    {
     "data": {
      "text/html": [
       "<div>\n",
       "<style scoped>\n",
       "    .dataframe tbody tr th:only-of-type {\n",
       "        vertical-align: middle;\n",
       "    }\n",
       "\n",
       "    .dataframe tbody tr th {\n",
       "        vertical-align: top;\n",
       "    }\n",
       "\n",
       "    .dataframe thead th {\n",
       "        text-align: right;\n",
       "    }\n",
       "</style>\n",
       "<table border=\"1\" class=\"dataframe\">\n",
       "  <thead>\n",
       "    <tr style=\"text-align: right;\">\n",
       "      <th></th>\n",
       "      <th>name</th>\n",
       "      <th>id</th>\n",
       "      <th>OrderID</th>\n",
       "      <th>Amount</th>\n",
       "    </tr>\n",
       "  </thead>\n",
       "  <tbody>\n",
       "    <tr>\n",
       "      <th>0</th>\n",
       "      <td>Jack</td>\n",
       "      <td>2</td>\n",
       "      <td>111</td>\n",
       "      <td>200</td>\n",
       "    </tr>\n",
       "    <tr>\n",
       "      <th>1</th>\n",
       "      <td>Mel</td>\n",
       "      <td>3</td>\n",
       "      <td>222</td>\n",
       "      <td>232</td>\n",
       "    </tr>\n",
       "    <tr>\n",
       "      <th>2</th>\n",
       "      <td>Rin</td>\n",
       "      <td>4</td>\n",
       "      <td>333</td>\n",
       "      <td>260</td>\n",
       "    </tr>\n",
       "    <tr>\n",
       "      <th>3</th>\n",
       "      <td>Sim</td>\n",
       "      <td>5</td>\n",
       "      <td>4</td>\n",
       "      <td>432</td>\n",
       "    </tr>\n",
       "  </tbody>\n",
       "</table>\n",
       "</div>"
      ],
      "text/plain": [
       "   name  id  OrderID  Amount\n",
       "0  Jack   2      111     200\n",
       "1   Mel   3      222     232\n",
       "2   Rin   4      333     260\n",
       "3   Sim   5        4     432"
      ]
     },
     "metadata": {},
     "output_type": "display_data"
    }
   ],
   "source": [
    "#Merging the dataframes\n",
    "\n",
    "merger_df = pd.merge(df_id, df_orders, on='id', how='left')\n",
    "print(\"Merged dataframe: \")\n",
    "display(merger_df)"
   ]
  },
  {
   "cell_type": "code",
   "execution_count": 39,
   "id": "42f15911-9770-4cc4-83a6-b9fa33a806e6",
   "metadata": {},
   "outputs": [],
   "source": [
    "df_mar = pd.DataFrame(\n",
    "    {\n",
    "        'Data': ['2024-03-01', '2024-03-02'],\n",
    "        'Sale': [200, 400],\n",
    "    }\n",
    ")"
   ]
  },
  {
   "cell_type": "code",
   "execution_count": 38,
   "id": "ed86117f-0a26-4fb5-98c7-989dfdc46550",
   "metadata": {},
   "outputs": [],
   "source": [
    "df_sale_mar = pd.DataFrame(\n",
    "    {\n",
    "        'Data': ['2024-03-01', '2024-03-02'],\n",
    "        'Sale': [200, 400],\n",
    "    }\n",
    ")"
   ]
  },
  {
   "cell_type": "code",
   "execution_count": 40,
   "id": "96163772-7d4b-4a26-b3cb-b470b0a7f0e5",
   "metadata": {},
   "outputs": [],
   "source": [
    "df_sale_apr = pd.DataFrame(\n",
    "    {\n",
    "        'Data': ['2024-04-01', '2024-04-02'],\n",
    "        'Sale': [250, 400],\n",
    "    }\n",
    ")"
   ]
  },
  {
   "cell_type": "code",
   "execution_count": 46,
   "id": "e2dbcd5e-28bf-4ad8-8010-d8c1afac3396",
   "metadata": {},
   "outputs": [
    {
     "name": "stdout",
     "output_type": "stream",
     "text": [
      "Concatenated dataframes: \n"
     ]
    },
    {
     "data": {
      "text/html": [
       "<div>\n",
       "<style scoped>\n",
       "    .dataframe tbody tr th:only-of-type {\n",
       "        vertical-align: middle;\n",
       "    }\n",
       "\n",
       "    .dataframe tbody tr th {\n",
       "        vertical-align: top;\n",
       "    }\n",
       "\n",
       "    .dataframe thead th {\n",
       "        text-align: right;\n",
       "    }\n",
       "</style>\n",
       "<table border=\"1\" class=\"dataframe\">\n",
       "  <thead>\n",
       "    <tr style=\"text-align: right;\">\n",
       "      <th></th>\n",
       "      <th>Data</th>\n",
       "      <th>Sale</th>\n",
       "    </tr>\n",
       "  </thead>\n",
       "  <tbody>\n",
       "    <tr>\n",
       "      <th>0</th>\n",
       "      <td>2024-03-01</td>\n",
       "      <td>200</td>\n",
       "    </tr>\n",
       "    <tr>\n",
       "      <th>1</th>\n",
       "      <td>2024-03-02</td>\n",
       "      <td>400</td>\n",
       "    </tr>\n",
       "    <tr>\n",
       "      <th>2</th>\n",
       "      <td>2024-04-01</td>\n",
       "      <td>250</td>\n",
       "    </tr>\n",
       "    <tr>\n",
       "      <th>3</th>\n",
       "      <td>2024-04-02</td>\n",
       "      <td>300</td>\n",
       "    </tr>\n",
       "  </tbody>\n",
       "</table>\n",
       "</div>"
      ],
      "text/plain": [
       "         Data  Sale\n",
       "0  2024-03-01   200\n",
       "1  2024-03-02   400\n",
       "2  2024-04-01   250\n",
       "3  2024-04-02   300"
      ]
     },
     "metadata": {},
     "output_type": "display_data"
    }
   ],
   "source": [
    "#Concatenating dataframes\n",
    "\n",
    "combined_df = pd.concat([df_sale_mar, df_sale_apr], ignore_index=True)\n",
    "print(\"Concatenated dataframes: \")\n",
    "display(combined_df)"
   ]
  },
  {
   "cell_type": "code",
   "execution_count": 50,
   "id": "6379e07d-4968-4d7d-885c-cafbf9d4e9b9",
   "metadata": {},
   "outputs": [],
   "source": [
    "df_sale_mar = pd.DataFrame(\n",
    "    {\n",
    "        'Product':[100,200],\n",
    "        'Data': ['2024-03-01', '2024-03-02'],\n",
    "        'Sale': [200, 400],\n",
    "    }\n",
    ")\n",
    "\n",
    "df_sale_apr = pd.DataFrame(\n",
    "    {\n",
    "        'Product':[100,200],\n",
    "        'Data': ['2024-04-01', '2024-04-02'],\n",
    "        'Sale': [250, 400],\n",
    "    }\n",
    ")\n",
    "\n",
    "df_id = pd.DataFrame({\n",
    "    'name': ['Jack','Mel','Rin', 'Sim'],\n",
    "    'id': [2,3,4,5]\n",
    "})\n",
    "\n",
    "df_orders = pd.DataFrame({\n",
    "    'OrderID': [111,222,333],\n",
    "    'id': [2,3,4],\n",
    "    'Amount': [200, 232, 260]\n",
    "})"
   ]
  },
  {
   "cell_type": "code",
   "execution_count": 51,
   "id": "e5c416e9-703f-435e-bc83-418761dfd498",
   "metadata": {},
   "outputs": [
    {
     "name": "stdout",
     "output_type": "stream",
     "text": [
      "Comcatenated dataframe: \n",
      "   Product        Data  Sale\n",
      "0      100  2024-03-01   200\n",
      "1      200  2024-03-02   400\n",
      "2      100  2024-04-01   250\n",
      "3      200  2024-04-02   400\n"
     ]
    }
   ],
   "source": [
    "#Step 1\n",
    "df_sale = pd.concat([df_sale_mar, df_sale_apr], ignore_index=True)\n",
    "print(\"Comcatenated dataframe: \")\n",
    "print(df_sale)"
   ]
  },
  {
   "cell_type": "markdown",
   "id": "1d6b2b7f-0fe2-454f-ac6e-03cdcee4789b",
   "metadata": {},
   "source": [
    "## 11. pd.cut() and pd.gcut()"
   ]
  },
  {
   "cell_type": "code",
   "execution_count": 58,
   "id": "b5ef37b7-1724-4383-b503-42632b4686f5",
   "metadata": {},
   "outputs": [
    {
     "name": "stderr",
     "output_type": "stream",
     "text": [
      "C:\\Users\\nacho\\AppData\\Local\\Temp\\ipykernel_16536\\2025914072.py:23: FutureWarning: The default of observed=False is deprecated and will be changed to True in a future version of pandas. Pass observed=False to retain current behavior or observed=True to adopt the future default and silence this warning.\n",
      "  segment_analysis = df.groupby(['Age_Group', 'Spend_Segment']).agg({\n"
     ]
    },
    {
     "data": {
      "text/html": [
       "<div>\n",
       "<style scoped>\n",
       "    .dataframe tbody tr th:only-of-type {\n",
       "        vertical-align: middle;\n",
       "    }\n",
       "\n",
       "    .dataframe tbody tr th {\n",
       "        vertical-align: top;\n",
       "    }\n",
       "\n",
       "    .dataframe thead th {\n",
       "        text-align: right;\n",
       "    }\n",
       "</style>\n",
       "<table border=\"1\" class=\"dataframe\">\n",
       "  <thead>\n",
       "    <tr style=\"text-align: right;\">\n",
       "      <th></th>\n",
       "      <th>Age_Group</th>\n",
       "      <th>Spend_Segment</th>\n",
       "      <th>Avg_purchase_Freq</th>\n",
       "      <th>Median_Purchase_Frequency</th>\n",
       "      <th>Purchase_Freq_Std</th>\n",
       "      <th>Avg_Annual_Spend</th>\n",
       "      <th>Customer_count</th>\n",
       "    </tr>\n",
       "  </thead>\n",
       "  <tbody>\n",
       "    <tr>\n",
       "      <th>0</th>\n",
       "      <td>18-29</td>\n",
       "      <td>Low</td>\n",
       "      <td>19.536232</td>\n",
       "      <td>19.0</td>\n",
       "      <td>3.624182</td>\n",
       "      <td>3010.553489</td>\n",
       "      <td>69</td>\n",
       "    </tr>\n",
       "    <tr>\n",
       "      <th>4</th>\n",
       "      <td>30-44</td>\n",
       "      <td>Low</td>\n",
       "      <td>20.000000</td>\n",
       "      <td>20.0</td>\n",
       "      <td>4.277850</td>\n",
       "      <td>3020.112216</td>\n",
       "      <td>101</td>\n",
       "    </tr>\n",
       "    <tr>\n",
       "      <th>8</th>\n",
       "      <td>45-59</td>\n",
       "      <td>Low</td>\n",
       "      <td>19.362500</td>\n",
       "      <td>19.0</td>\n",
       "      <td>4.337776</td>\n",
       "      <td>3053.061376</td>\n",
       "      <td>80</td>\n",
       "    </tr>\n",
       "    <tr>\n",
       "      <th>12</th>\n",
       "      <td>60-70</td>\n",
       "      <td>Low</td>\n",
       "      <td>NaN</td>\n",
       "      <td>NaN</td>\n",
       "      <td>NaN</td>\n",
       "      <td>NaN</td>\n",
       "      <td>0</td>\n",
       "    </tr>\n",
       "    <tr>\n",
       "      <th>1</th>\n",
       "      <td>18-29</td>\n",
       "      <td>Medium</td>\n",
       "      <td>20.855263</td>\n",
       "      <td>21.0</td>\n",
       "      <td>4.854425</td>\n",
       "      <td>8025.220771</td>\n",
       "      <td>76</td>\n",
       "    </tr>\n",
       "    <tr>\n",
       "      <th>5</th>\n",
       "      <td>30-44</td>\n",
       "      <td>Medium</td>\n",
       "      <td>20.161290</td>\n",
       "      <td>20.0</td>\n",
       "      <td>4.965731</td>\n",
       "      <td>7885.899866</td>\n",
       "      <td>93</td>\n",
       "    </tr>\n",
       "    <tr>\n",
       "      <th>9</th>\n",
       "      <td>45-59</td>\n",
       "      <td>Medium</td>\n",
       "      <td>19.382716</td>\n",
       "      <td>19.0</td>\n",
       "      <td>3.989260</td>\n",
       "      <td>7786.816687</td>\n",
       "      <td>81</td>\n",
       "    </tr>\n",
       "    <tr>\n",
       "      <th>13</th>\n",
       "      <td>60-70</td>\n",
       "      <td>Medium</td>\n",
       "      <td>NaN</td>\n",
       "      <td>NaN</td>\n",
       "      <td>NaN</td>\n",
       "      <td>NaN</td>\n",
       "      <td>0</td>\n",
       "    </tr>\n",
       "    <tr>\n",
       "      <th>2</th>\n",
       "      <td>18-29</td>\n",
       "      <td>High</td>\n",
       "      <td>19.840580</td>\n",
       "      <td>19.0</td>\n",
       "      <td>4.071505</td>\n",
       "      <td>13225.998184</td>\n",
       "      <td>69</td>\n",
       "    </tr>\n",
       "    <tr>\n",
       "      <th>6</th>\n",
       "      <td>30-44</td>\n",
       "      <td>High</td>\n",
       "      <td>20.373626</td>\n",
       "      <td>21.0</td>\n",
       "      <td>4.332432</td>\n",
       "      <td>13180.305210</td>\n",
       "      <td>91</td>\n",
       "    </tr>\n",
       "    <tr>\n",
       "      <th>10</th>\n",
       "      <td>45-59</td>\n",
       "      <td>High</td>\n",
       "      <td>19.933333</td>\n",
       "      <td>20.0</td>\n",
       "      <td>4.675540</td>\n",
       "      <td>13250.784422</td>\n",
       "      <td>90</td>\n",
       "    </tr>\n",
       "    <tr>\n",
       "      <th>14</th>\n",
       "      <td>60-70</td>\n",
       "      <td>High</td>\n",
       "      <td>NaN</td>\n",
       "      <td>NaN</td>\n",
       "      <td>NaN</td>\n",
       "      <td>NaN</td>\n",
       "      <td>0</td>\n",
       "    </tr>\n",
       "    <tr>\n",
       "      <th>3</th>\n",
       "      <td>18-29</td>\n",
       "      <td>Very High</td>\n",
       "      <td>19.298507</td>\n",
       "      <td>18.0</td>\n",
       "      <td>5.228172</td>\n",
       "      <td>17714.947638</td>\n",
       "      <td>67</td>\n",
       "    </tr>\n",
       "    <tr>\n",
       "      <th>7</th>\n",
       "      <td>30-44</td>\n",
       "      <td>Very High</td>\n",
       "      <td>19.836957</td>\n",
       "      <td>19.0</td>\n",
       "      <td>4.363377</td>\n",
       "      <td>17935.750836</td>\n",
       "      <td>92</td>\n",
       "    </tr>\n",
       "    <tr>\n",
       "      <th>11</th>\n",
       "      <td>45-59</td>\n",
       "      <td>Very High</td>\n",
       "      <td>19.428571</td>\n",
       "      <td>19.0</td>\n",
       "      <td>4.216747</td>\n",
       "      <td>17934.267137</td>\n",
       "      <td>91</td>\n",
       "    </tr>\n",
       "    <tr>\n",
       "      <th>15</th>\n",
       "      <td>60-70</td>\n",
       "      <td>Very High</td>\n",
       "      <td>NaN</td>\n",
       "      <td>NaN</td>\n",
       "      <td>NaN</td>\n",
       "      <td>NaN</td>\n",
       "      <td>0</td>\n",
       "    </tr>\n",
       "  </tbody>\n",
       "</table>\n",
       "</div>"
      ],
      "text/plain": [
       "   Age_Group Spend_Segment  Avg_purchase_Freq  Median_Purchase_Frequency  \\\n",
       "0      18-29           Low          19.536232                       19.0   \n",
       "4      30-44           Low          20.000000                       20.0   \n",
       "8      45-59           Low          19.362500                       19.0   \n",
       "12     60-70           Low                NaN                        NaN   \n",
       "1      18-29        Medium          20.855263                       21.0   \n",
       "5      30-44        Medium          20.161290                       20.0   \n",
       "9      45-59        Medium          19.382716                       19.0   \n",
       "13     60-70        Medium                NaN                        NaN   \n",
       "2      18-29          High          19.840580                       19.0   \n",
       "6      30-44          High          20.373626                       21.0   \n",
       "10     45-59          High          19.933333                       20.0   \n",
       "14     60-70          High                NaN                        NaN   \n",
       "3      18-29     Very High          19.298507                       18.0   \n",
       "7      30-44     Very High          19.836957                       19.0   \n",
       "11     45-59     Very High          19.428571                       19.0   \n",
       "15     60-70     Very High                NaN                        NaN   \n",
       "\n",
       "    Purchase_Freq_Std  Avg_Annual_Spend  Customer_count  \n",
       "0            3.624182       3010.553489              69  \n",
       "4            4.277850       3020.112216             101  \n",
       "8            4.337776       3053.061376              80  \n",
       "12                NaN               NaN               0  \n",
       "1            4.854425       8025.220771              76  \n",
       "5            4.965731       7885.899866              93  \n",
       "9            3.989260       7786.816687              81  \n",
       "13                NaN               NaN               0  \n",
       "2            4.071505      13225.998184              69  \n",
       "6            4.332432      13180.305210              91  \n",
       "10           4.675540      13250.784422              90  \n",
       "14                NaN               NaN               0  \n",
       "3            5.228172      17714.947638              67  \n",
       "7            4.363377      17935.750836              92  \n",
       "11           4.216747      17934.267137              91  \n",
       "15                NaN               NaN               0  "
      ]
     },
     "metadata": {},
     "output_type": "display_data"
    }
   ],
   "source": [
    "# Generate a sample dataset\n",
    "\n",
    "np.random.seed(0)\n",
    "n = 1000\n",
    "\n",
    "data = {\n",
    "    'Customer': range(1, n+1),\n",
    "    'Age': np.random.randint(20,60,n),\n",
    "    'Annual_spend': np.random.uniform(600, 20000, n),\n",
    "    'Purchase_frequency': np.random.poisson(20, n)\n",
    "}\n",
    "\n",
    "df = pd.DataFrame(data)\n",
    "\n",
    "# Step 1\n",
    "age_bins = [12,30,45,70,80]\n",
    "age_labels = ['18-29', '30-44', '45-59','60-70']\n",
    "df['Age_Group'] = pd.cut(df['Age'], bins=age_bins, labels=age_labels)\n",
    "\n",
    "# Step 2\n",
    "df['Spend_Segment'] = pd.qcut(df['Annual_spend'], q=4, labels=['Low','Medium','High', 'Very High'])\n",
    "\n",
    "segment_analysis = df.groupby(['Age_Group', 'Spend_Segment']).agg({\n",
    "    'Purchase_frequency': ['mean', 'median', 'std'],\n",
    "    'Annual_spend' : 'mean',\n",
    "    'Customer': 'count'}).reset_index()\n",
    "\n",
    "# Renaming Columns\n",
    "                          \n",
    "segment_analysis.columns= ['Age_Group', 'Spend_Segment', 'Avg_purchase_Freq', 'Median_Purchase_Frequency',\n",
    "                           'Purchase_Freq_Std', 'Avg_Annual_Spend', 'Customer_count']\n",
    "\n",
    "segment_analysis  = segment_analysis.sort_values(by=['Spend_Segment', 'Age_Group'])\n",
    "\n",
    "display(segment_analysis)"
   ]
  },
  {
   "cell_type": "markdown",
   "id": "fad88ba9-eb4a-4c65-8411-5e1d2f17c616",
   "metadata": {},
   "source": [
    "## 12. pd.resample"
   ]
  },
  {
   "cell_type": "code",
   "execution_count": 1,
   "id": "51f92377-9583-4d41-b1df-36aa5ae35f12",
   "metadata": {},
   "outputs": [],
   "source": [
    "import pandas as pd\n",
    "import numpy as np\n",
    "import matplotlib.pyplot as plt"
   ]
  },
  {
   "cell_type": "code",
   "execution_count": 17,
   "id": "c134841f-4038-481c-ad18-97adf6110344",
   "metadata": {},
   "outputs": [
    {
     "data": {
      "image/png": "[encoded data removed]",
      "text/plain": [
       "<Figure size 1000x500 with 1 Axes>"
      ]
     },
     "metadata": {},
     "output_type": "display_data"
    },
    {
     "data": {
      "image/png": "[encoded data removed]",
      "text/plain": [
       "<Figure size 1000x500 with 1 Axes>"
      ]
     },
     "metadata": {},
     "output_type": "display_data"
    }
   ],
   "source": [
    "# Generate dataset\n",
    "\n",
    "date_range = pd.date_range(start='2024-01-01', end='2024-06-30', freq=\"h\")\n",
    "np.random.seed(5)\n",
    "energy_data = np.random.uniform(100, 500, len(date_range))\n",
    "\n",
    "# Creating DataFrame\n",
    "df = pd.DataFrame({\n",
    "    'Timestamp': date_range, \n",
    "    'Energy_consumption': energy_data})\n",
    "\n",
    "df.set_index('Timestamp', inplace=True)\n",
    "\n",
    "# Step 1\n",
    "daily_consumption = df.resample('D').sum()\n",
    "daily_consumption.columns = ['Daily_Total_KWh']\n",
    "\n",
    "# Step 2\n",
    "weekly_consumption = df.resample('W').mean()\n",
    "weekly_consumption.columns = ['Weekly_Avg_KWh']\n",
    "\n",
    "# Visualization\n",
    "plt.figure(figsize=(10,5))\n",
    "plt.plot(daily_consumption.index, daily_consumption['Daily_Total_KWh'], color='red', label='Daily Total Kwh')\n",
    "plt.show()\n",
    "\n",
    "plt.figure(figsize=(10,5))\n",
    "plt.plot(weekly_consumption.index, weekly_consumption['Weekly_Avg_KWh'], color='red', label='weekly Total Kwh')\n",
    "plt.show()"
   ]
  },
  {
   "cell_type": "code",
   "execution_count": 14,
   "id": "4d53e544-8df0-49fe-8f5a-b33b4e3f6c50",
   "metadata": {},
   "outputs": [
    {
     "data": {
      "text/plain": [
       "array([426.98508088, 250.05897263, 139.64896662, 385.6447192 ,\n",
       "       404.70768475, 358.53547418, 172.61073582, 231.14220735,\n",
       "       322.41185082, 215.07577442, 240.31515901, 308.68387162,\n",
       "       441.71048589, 454.82116737, 353.31419075, 332.35679039,\n",
       "       349.12603283, 319.61113276, 109.75675905, 110.58765384,\n",
       "       186.33468148, 288.92495365, 194.90198268, 442.66228003,\n",
       "       129.85617372, 398.50459655, 289.43277535, 272.78179355,\n",
       "       317.81962722, 118.11198882, 145.89186932, 480.75782843,\n",
       "       393.36928118, 358.23072237, 406.09022157, 453.72209472,\n",
       "       149.25042807, 265.12882715, 427.49158122, 147.09326546,\n",
       "       183.62828358, 207.88640518, 285.87243257, 487.38188105,\n",
       "       274.54185131, 399.25089106, 132.01375612, 454.80492368,\n",
       "       217.65741018, 180.06249785, 310.65866502, 389.71641459,\n",
       "       364.2521588 , 178.92238545, 229.12190626, 179.03448773,\n",
       "       460.01634551, 205.19483498, 366.88184024, 225.95692699,\n",
       "       110.77159884, 487.10270042, 153.18564301, 227.92344271,\n",
       "       477.44015818, 434.61119962, 464.8124399 , 320.6534751 ,\n",
       "       277.1585189 , 333.50694434, 133.88406839, 472.46217174,\n",
       "       492.99976876, 470.86547225, 114.28497505, 287.9119658 ,\n",
       "       439.07498377, 489.42123116, 395.53997961, 366.33941885,\n",
       "       427.08866044, 298.78346169, 400.30071102, 312.56236372,\n",
       "       381.12152492, 272.43240055, 291.20827653, 284.09474466,\n",
       "       176.91287863, 132.03906428, 492.65353429, 406.44225721,\n",
       "       415.465398  , 364.17058101, 257.54963398, 191.69460613,\n",
       "       421.0109503 , 122.07712125, 140.28008792, 366.51574113,\n",
       "       225.38617146, 378.52619009, 351.85430764, 344.16309467,\n",
       "       153.57425925, 350.50121002, 146.04566973, 257.61885468,\n",
       "       261.08592701, 282.95361906, 275.27661413, 378.12631321,\n",
       "       182.67406178, 233.14324432, 208.43275513, 125.82739545,\n",
       "       308.4850416 , 280.83246475, 453.87597804, 136.00719263,\n",
       "       434.4904358 , 447.5067309 , 402.65827932, 474.11685997,\n",
       "       283.05991197, 190.27972095, 123.69270567, 490.44856707,\n",
       "       399.79777284, 266.80274431, 332.66297493, 137.17688487,\n",
       "       171.95254699, 182.68202194, 204.38268253, 278.98100412,\n",
       "       468.01810924, 350.34429546, 422.30695175, 428.83592873,\n",
       "       450.14492109, 196.29854552, 450.97903322, 172.23462304,\n",
       "       366.97197399, 431.12191504, 185.93152463, 326.21690994,\n",
       "       297.48946073, 256.16995505, 318.79353126, 498.11118804,\n",
       "       139.93599704, 325.74721292, 303.19398932, 282.52597752,\n",
       "       428.77810073, 412.33298736, 341.25104675, 335.07570222,\n",
       "       166.33650641, 473.80794467, 399.78436265, 349.4434637 ,\n",
       "       499.04677244, 156.52452595, 180.93069929, 393.69159844,\n",
       "       167.51526845, 259.61544348, 343.0635718 , 124.11454118,\n",
       "       374.40190299, 116.15425092, 250.02864621, 231.69160644,\n",
       "       106.68156869, 179.20577904, 464.56192789, 320.78334399,\n",
       "       282.88075814, 321.48795887, 358.60085914, 175.91476005,\n",
       "       462.16848071, 199.75467091, 224.41659603, 384.39543375,\n",
       "       256.45340756, 148.488201  , 492.38062263, 132.85047209,\n",
       "       460.0489736 , 389.75419172, 222.64287058, 438.6260973 ,\n",
       "       327.10238734, 484.46157578, 336.96501414, 345.55282454,\n",
       "       256.21171411, 464.49244504, 315.82467077, 276.8017524 ,\n",
       "       234.7820901 , 222.37363075, 405.40056773, 338.75593268,\n",
       "       125.40079995, 228.60389112, 392.57210787, 148.45075281,\n",
       "       463.08484249, 386.59534626, 187.94304328, 491.43914363,\n",
       "       338.11824193, 243.68355706, 495.19084787, 496.53503667,\n",
       "       483.108211  , 197.63291779, 235.55921099, 170.69004836,\n",
       "       454.82794542, 359.98899462, 152.33197426, 124.77778527,\n",
       "       186.08172122, 284.64166922, 176.61179487, 458.75985714,\n",
       "       301.93125593, 473.8279942 , 146.67978822, 418.22282899,\n",
       "       436.20057081, 350.80435647, 456.86223653, 405.70545747,\n",
       "       471.60076825, 405.52352685, 328.22128142, 126.33328326,\n",
       "       244.89953892, 275.92366309, 123.75369858, 270.98624526,\n",
       "       216.92221052, 236.98216728, 126.33192322, 347.16513004,\n",
       "       234.74486109, 332.00741902, 140.86027782, 456.8845898 ,\n",
       "       236.36690773, 428.44532238, 145.07529143, 410.39468864,\n",
       "       453.25134226, 303.03604689, 182.50644389, 406.51666256,\n",
       "       133.60809922, 186.1770858 , 147.14028717, 396.14607357,\n",
       "       287.40608193, 221.5467853 , 418.31412995, 484.1110531 ,\n",
       "       378.57170121, 326.99971929, 100.4455985 , 281.01791891,\n",
       "       265.78157537, 372.97604931, 242.93426773, 264.68368653,\n",
       "       115.04902484, 124.27382404, 202.46683855, 265.81591658,\n",
       "       298.72146821, 383.33912846, 464.29520005, 462.94778226,\n",
       "       369.62358489, 397.35154536, 445.19083087, 358.45678765,\n",
       "       330.09816621, 338.45888029, 284.73374128, 375.5629451 ,\n",
       "       471.26171897, 200.25852392, 231.89993995, 401.05596525,\n",
       "       366.67721504, 109.84671281, 360.61469457, 476.71611238,\n",
       "       453.05175674, 179.36758113, 117.03254766, 385.59930896,\n",
       "       330.66178308, 107.92324067, 145.32633977, 265.84341921,\n",
       "       257.2176939 , 355.01296607, 329.80648983, 477.78660664,\n",
       "       360.01932538, 402.75513827, 411.65172715, 309.54576452,\n",
       "       109.64562088, 278.0467403 , 406.13785656, 456.85598867,\n",
       "       413.92110412, 265.68014958, 431.11812021, 486.70562695,\n",
       "       308.57694818, 329.26023175, 218.79688198, 220.95783528,\n",
       "       335.12906378, 110.41235831, 387.24131268, 178.92419361,\n",
       "       408.05334263, 164.57648996, 441.09237466, 297.43399462,\n",
       "       359.64611013, 276.31378783, 414.47340568, 155.20485183,\n",
       "       152.94622992, 169.67113471, 260.22138296, 137.78853279,\n",
       "       199.55506131, 418.67865093, 157.6798294 , 456.88555513,\n",
       "       453.78405989, 390.49390405, 224.90396826, 298.25641878,\n",
       "       440.1934462 , 469.37032834, 378.68479869, 218.7632049 ,\n",
       "       379.91482202, 460.77150452, 209.07384146, 429.87790881,\n",
       "       360.62681748, 386.33575264, 406.49805279, 145.44830985,\n",
       "       252.94449158, 108.74519021, 288.63406227, 434.76638913,\n",
       "       352.61358121, 261.16897626, 348.91685863, 312.58160595,\n",
       "       124.22999439, 303.98075208, 401.33317767, 287.55239601,\n",
       "       334.59885511, 344.38511192, 378.54299135, 401.23599771,\n",
       "       480.28476718, 153.59350654, 261.19161845, 417.57396504,\n",
       "       327.75536058, 486.89495584, 351.01944932, 333.27633273,\n",
       "       276.33615146, 298.87831023, 442.32759778, 474.55531756,\n",
       "       389.89080648, 496.28338797, 499.88749872, 370.87870953,\n",
       "       163.13268195, 254.6943125 , 104.77386987, 401.91003226,\n",
       "       426.131234  , 244.46542147, 228.99455891, 274.93095433,\n",
       "       386.75027181, 412.83895584, 309.90835388, 363.32802687,\n",
       "       403.87472734, 264.66773817, 253.38765544, 124.76797445,\n",
       "       158.45872327, 323.45551993, 295.93276559, 307.83777455,\n",
       "       348.40963923, 229.18053195, 367.10778304, 407.68355042,\n",
       "       375.47334185, 310.14873662, 397.82962357, 245.51488124,\n",
       "       339.54366896, 401.9751171 , 434.78677999, 179.41128171,\n",
       "       121.69517157, 139.76215921, 377.5715121 , 175.2072202 ,\n",
       "       136.08961107, 387.98711632, 112.11732483, 286.57256892,\n",
       "       103.1563211 , 250.08182294, 334.16260546, 354.0930247 ,\n",
       "       150.62358547, 103.42319432, 284.8783253 , 220.8788511 ,\n",
       "       206.33635695, 106.49589357, 394.94852718, 112.07408273,\n",
       "       314.53072569, 452.03591819, 466.76277213, 109.81980751,\n",
       "       132.69291973, 422.55325304, 267.36022305, 467.20782063,\n",
       "       431.74536649, 226.61821439, 447.73275193, 106.46247487,\n",
       "       243.28551544, 238.13577996, 298.68046418, 319.99017283,\n",
       "       439.35277367, 121.74244127, 316.38376062, 427.7341759 ,\n",
       "       305.6620388 , 448.60854611, 452.20543464, 223.03940841,\n",
       "       450.49743337, 181.06781902, 417.09503164, 216.94299196,\n",
       "       430.11580971, 464.3875968 , 407.20793875, 105.70890042,\n",
       "       116.39779116, 498.11700185, 260.28638821, 213.96813079,\n",
       "       281.37244547, 148.99892897, 376.96687559, 404.24914351,\n",
       "       466.57192934, 246.41839884, 158.99247696, 234.34917419,\n",
       "       214.76163083, 250.25361257, 450.41707365, 466.055719  ])"
      ]
     },
     "execution_count": 14,
     "metadata": {},
     "output_type": "execute_result"
    }
   ],
   "source": [
    "np.random.uniform(100, 500, 500 )"
   ]
  },
  {
   "cell_type": "code",
   "execution_count": 15,
   "id": "1765a030-543b-4fe1-9322-fe4ecaae6009",
   "metadata": {},
   "outputs": [
    {
     "data": {
      "text/html": [
       "<div>\n",
       "<style scoped>\n",
       "    .dataframe tbody tr th:only-of-type {\n",
       "        vertical-align: middle;\n",
       "    }\n",
       "\n",
       "    .dataframe tbody tr th {\n",
       "        vertical-align: top;\n",
       "    }\n",
       "\n",
       "    .dataframe thead th {\n",
       "        text-align: right;\n",
       "    }\n",
       "</style>\n",
       "<table border=\"1\" class=\"dataframe\">\n",
       "  <thead>\n",
       "    <tr style=\"text-align: right;\">\n",
       "      <th></th>\n",
       "      <th>Energy_consumption</th>\n",
       "    </tr>\n",
       "    <tr>\n",
       "      <th>Timestamp</th>\n",
       "      <th></th>\n",
       "    </tr>\n",
       "  </thead>\n",
       "  <tbody>\n",
       "    <tr>\n",
       "      <th>2024-01-01 00:00:00</th>\n",
       "      <td>188.797268</td>\n",
       "    </tr>\n",
       "    <tr>\n",
       "      <th>2024-01-01 01:00:00</th>\n",
       "      <td>448.292922</td>\n",
       "    </tr>\n",
       "    <tr>\n",
       "      <th>2024-01-01 02:00:00</th>\n",
       "      <td>182.687662</td>\n",
       "    </tr>\n",
       "    <tr>\n",
       "      <th>2024-01-01 03:00:00</th>\n",
       "      <td>467.444363</td>\n",
       "    </tr>\n",
       "    <tr>\n",
       "      <th>2024-01-01 04:00:00</th>\n",
       "      <td>295.364476</td>\n",
       "    </tr>\n",
       "    <tr>\n",
       "      <th>...</th>\n",
       "      <td>...</td>\n",
       "    </tr>\n",
       "    <tr>\n",
       "      <th>2024-06-29 20:00:00</th>\n",
       "      <td>494.433128</td>\n",
       "    </tr>\n",
       "    <tr>\n",
       "      <th>2024-06-29 21:00:00</th>\n",
       "      <td>417.215236</td>\n",
       "    </tr>\n",
       "    <tr>\n",
       "      <th>2024-06-29 22:00:00</th>\n",
       "      <td>145.210588</td>\n",
       "    </tr>\n",
       "    <tr>\n",
       "      <th>2024-06-29 23:00:00</th>\n",
       "      <td>242.397387</td>\n",
       "    </tr>\n",
       "    <tr>\n",
       "      <th>2024-06-30 00:00:00</th>\n",
       "      <td>144.168854</td>\n",
       "    </tr>\n",
       "  </tbody>\n",
       "</table>\n",
       "<p>4345 rows × 1 columns</p>\n",
       "</div>"
      ],
      "text/plain": [
       "                     Energy_consumption\n",
       "Timestamp                              \n",
       "2024-01-01 00:00:00          188.797268\n",
       "2024-01-01 01:00:00          448.292922\n",
       "2024-01-01 02:00:00          182.687662\n",
       "2024-01-01 03:00:00          467.444363\n",
       "2024-01-01 04:00:00          295.364476\n",
       "...                                 ...\n",
       "2024-06-29 20:00:00          494.433128\n",
       "2024-06-29 21:00:00          417.215236\n",
       "2024-06-29 22:00:00          145.210588\n",
       "2024-06-29 23:00:00          242.397387\n",
       "2024-06-30 00:00:00          144.168854\n",
       "\n",
       "[4345 rows x 1 columns]"
      ]
     },
     "execution_count": 15,
     "metadata": {},
     "output_type": "execute_result"
    }
   ],
   "source": [
    "df"
   ]
  },
  {
   "cell_type": "code",
   "execution_count": 16,
   "id": "0d6c209c-d394-4804-982b-3b11558a26bc",
   "metadata": {},
   "outputs": [
    {
     "data": {
      "text/html": [
       "<div>\n",
       "<style scoped>\n",
       "    .dataframe tbody tr th:only-of-type {\n",
       "        vertical-align: middle;\n",
       "    }\n",
       "\n",
       "    .dataframe tbody tr th {\n",
       "        vertical-align: top;\n",
       "    }\n",
       "\n",
       "    .dataframe thead th {\n",
       "        text-align: right;\n",
       "    }\n",
       "</style>\n",
       "<table border=\"1\" class=\"dataframe\">\n",
       "  <thead>\n",
       "    <tr style=\"text-align: right;\">\n",
       "      <th></th>\n",
       "      <th>Daily_Total_KWh</th>\n",
       "    </tr>\n",
       "    <tr>\n",
       "      <th>Timestamp</th>\n",
       "      <th></th>\n",
       "    </tr>\n",
       "  </thead>\n",
       "  <tbody>\n",
       "    <tr>\n",
       "      <th>2024-01-01</th>\n",
       "      <td>6793.138155</td>\n",
       "    </tr>\n",
       "    <tr>\n",
       "      <th>2024-01-02</th>\n",
       "      <td>7163.282776</td>\n",
       "    </tr>\n",
       "    <tr>\n",
       "      <th>2024-01-03</th>\n",
       "      <td>7303.273738</td>\n",
       "    </tr>\n",
       "    <tr>\n",
       "      <th>2024-01-04</th>\n",
       "      <td>7302.766901</td>\n",
       "    </tr>\n",
       "    <tr>\n",
       "      <th>2024-01-05</th>\n",
       "      <td>7940.930362</td>\n",
       "    </tr>\n",
       "    <tr>\n",
       "      <th>...</th>\n",
       "      <td>...</td>\n",
       "    </tr>\n",
       "    <tr>\n",
       "      <th>2024-06-26</th>\n",
       "      <td>7371.666263</td>\n",
       "    </tr>\n",
       "    <tr>\n",
       "      <th>2024-06-27</th>\n",
       "      <td>7040.813306</td>\n",
       "    </tr>\n",
       "    <tr>\n",
       "      <th>2024-06-28</th>\n",
       "      <td>7891.444915</td>\n",
       "    </tr>\n",
       "    <tr>\n",
       "      <th>2024-06-29</th>\n",
       "      <td>7210.895800</td>\n",
       "    </tr>\n",
       "    <tr>\n",
       "      <th>2024-06-30</th>\n",
       "      <td>144.168854</td>\n",
       "    </tr>\n",
       "  </tbody>\n",
       "</table>\n",
       "<p>182 rows × 1 columns</p>\n",
       "</div>"
      ],
      "text/plain": [
       "            Daily_Total_KWh\n",
       "Timestamp                  \n",
       "2024-01-01      6793.138155\n",
       "2024-01-02      7163.282776\n",
       "2024-01-03      7303.273738\n",
       "2024-01-04      7302.766901\n",
       "2024-01-05      7940.930362\n",
       "...                     ...\n",
       "2024-06-26      7371.666263\n",
       "2024-06-27      7040.813306\n",
       "2024-06-28      7891.444915\n",
       "2024-06-29      7210.895800\n",
       "2024-06-30       144.168854\n",
       "\n",
       "[182 rows x 1 columns]"
      ]
     },
     "execution_count": 16,
     "metadata": {},
     "output_type": "execute_result"
    }
   ],
   "source": [
    "daily_consumption"
   ]
  }
 ],
 "metadata": {
  "kernelspec": {
   "display_name": "Python 3 (ipykernel)",
   "language": "python",
   "name": "python3"
  },
  "language_info": {
   "codemirror_mode": {
    "name": "ipython",
    "version": 3
   },
   "file_extension": ".py",
   "mimetype": "text/x-python",
   "name": "python",
   "nbconvert_exporter": "python",
   "pygments_lexer": "ipython3",
   "version": "3.12.7"
  }
 },
 "nbformat": 4,
 "nbformat_minor": 5
}
